{
 "cells": [
  {
   "cell_type": "markdown",
   "id": "opening-establishment",
   "metadata": {},
   "source": [
    "### Day 1 \n",
    "\n",
    "Part one\n",
    "\n",
    "The jungle must be too overgrown and difficult to navigate in vehicles or access from the air; the Elves' expedition traditionally goes on foot. As your boats approach land, the Elves begin taking inventory of their supplies. One important consideration is food - in particular, the number of Calories each Elf is carrying (your puzzle input).\n",
    "\n",
    "The Elves take turns writing down the number of Calories contained by the various meals, snacks, rations, etc. that they've brought with them, one item per line. Each Elf separates their own inventory from the previous Elf's inventory (if any) by a blank line.\n",
    "\n",
    "Find the Elf carrying the most Calories. How many total Calories is that Elf carrying?"
   ]
  },
  {
   "cell_type": "code",
   "execution_count": 1,
   "id": "close-fundamental",
   "metadata": {},
   "outputs": [
    {
     "data": {
      "text/plain": [
       "66487"
      ]
     },
     "execution_count": 1,
     "metadata": {},
     "output_type": "execute_result"
    }
   ],
   "source": [
    "# Open text file\n",
    "with open('day1.txt', 'r') as reader:\n",
    "    \n",
    "    #Create variables for holding calorie totals and a list of those totals\n",
    "    group_total = 0\n",
    "    \n",
    "    group_total_list = []\n",
    "    \n",
    "    # itter ate thrrough the lines of text\n",
    "    for line in reader.readlines():\n",
    "        \n",
    "        # if the line is not blank add the number to group_total\n",
    "        if line != '\\n':\n",
    "            \n",
    "            group_total += int(line.strip())\n",
    "            \n",
    "        # if it is a blank append the current total to group_total_list then set group_total to zero\n",
    "        else:\n",
    "            \n",
    "            group_total_list.append(group_total)\n",
    "            \n",
    "            group_total = 0\n",
    "            \n",
    "# get max number in group_total_list\n",
    "max(group_total_list)"
   ]
  },
  {
   "cell_type": "markdown",
   "id": "improving-sauce",
   "metadata": {},
   "source": [
    "Part Two\n",
    "\n",
    "By the time you calculate the answer to the Elves' question, they've already realized that the Elf carrying the most Calories of food might eventually run out of snacks.\n",
    "\n",
    "To avoid this unacceptable situation, the Elves would instead like to know the total Calories carried by the top three Elves carrying the most Calories. That way, even if one of those Elves runs out of snacks, they still have two backups.\n",
    "\n",
    "In the example above, the top three Elves are the fourth Elf (with 24000 Calories), then the third Elf (with 11000 Calories), then the fifth Elf (with 10000 Calories). The sum of the Calories carried by these three elves is 45000.\n",
    "\n",
    "Find the top three Elves carrying the most Calories. How many Calories are those Elves carrying in total?"
   ]
  },
  {
   "cell_type": "code",
   "execution_count": 2,
   "id": "posted-great",
   "metadata": {},
   "outputs": [
    {
     "data": {
      "text/plain": [
       "197301"
      ]
     },
     "execution_count": 2,
     "metadata": {},
     "output_type": "execute_result"
    }
   ],
   "source": [
    "# Open text file\n",
    "with open('day1.txt', 'r') as reader:\n",
    "    \n",
    "    #Create variables for holding calorie totals and a list of those totals\n",
    "    group_total = 0\n",
    "    \n",
    "    group_total_list = []\n",
    "    \n",
    "    # itter ate thrrough the lines of text\n",
    "    for line in reader.readlines():\n",
    "        \n",
    "        # if the line is not blank add the number to group_total\n",
    "        if line != '\\n':\n",
    "            \n",
    "            group_total += int(line.strip())\n",
    "            \n",
    "        # if it is a blank append the current total to group_total_list then set group_total to zero\n",
    "        else:\n",
    "            \n",
    "            group_total_list.append(group_total)\n",
    "            \n",
    "            group_total = 0\n",
    "    \n",
    "    # sort list in ascending order\n",
    "    group_total_list.sort()\n",
    "    \n",
    "    # get only the top three in a list\n",
    "    top_three = group_total_list[-3:]\n",
    "    \n",
    "#get the sum of the top three\n",
    "sum(top_three)"
   ]
  },
  {
   "cell_type": "markdown",
   "id": "combined-exposure",
   "metadata": {},
   "source": [
    "## Day 2: Rock Paper Scissors\n",
    "\n",
    "The Elves begin to set up camp on the beach. To decide whose tent gets to be closest to the snack storage, a giant Rock Paper Scissors tournament is already in progress.\n",
    "\n",
    "Rock Paper Scissors is a game between two players. Each game contains many rounds; in each round, the players each simultaneously choose one of Rock, Paper, or Scissors using a hand shape. Then, a winner for that round is selected: Rock defeats Scissors, Scissors defeats Paper, and Paper defeats Rock. If both players choose the same shape, the round instead ends in a draw.\n",
    "\n",
    "Appreciative of your help yesterday, one Elf gives you an encrypted strategy guide (your puzzle input) that they say will be sure to help you win. \"The first column is what your opponent is going to play: A for Rock, B for Paper, and C for Scissors. The second column--\" Suddenly, the Elf is called away to help with someone's tent.\n",
    "\n",
    "The second column, you reason, must be what you should play in response: X for Rock, Y for Paper, and Z for Scissors. Winning every time would be suspicious, so the responses must have been carefully chosen.\n",
    "\n",
    "The winner of the whole tournament is the player with the highest score. Your total score is the sum of your scores for each round. The score for a single round is the score for the shape you selected (1 for Rock, 2 for Paper, and 3 for Scissors) plus the score for the outcome of the round (0 if you lost, 3 if the round was a draw, and 6 if you won).\n",
    "\n",
    "Since you can't be sure if the Elf is trying to help you or trick you, you should calculate the score you would get if you were to follow the strategy guide.\n",
    "\n",
    "For example, suppose you were given the following strategy guide:\n",
    "\n",
    "A Y\n",
    "B X\n",
    "C Z\n",
    "This strategy guide predicts and recommends the following:\n",
    "\n",
    "In the first round, your opponent will choose Rock (A), and you should choose Paper (Y). This ends in a win for you with a score of 8 (2 because you chose Paper + 6 because you won).\n",
    "In the second round, your opponent will choose Paper (B), and you should choose Rock (X). This ends in a loss for you with a score of 1 (1 + 0).\n",
    "The third round is a draw with both players choosing Scissors, giving you a score of 3 + 3 = 6.\n",
    "In this example, if you were to follow the strategy guide, you would get a total score of 15 (8 + 1 + 6).\n",
    "\n",
    "What would your total score be if everything goes exactly according to your strategy guide?"
   ]
  },
  {
   "cell_type": "code",
   "execution_count": 3,
   "id": "quantitative-casting",
   "metadata": {},
   "outputs": [
    {
     "data": {
      "text/plain": [
       "9651"
      ]
     },
     "execution_count": 3,
     "metadata": {},
     "output_type": "execute_result"
    }
   ],
   "source": [
    "\n",
    "# open input file\n",
    "with open('day2.txt', 'r') as reader:\n",
    "    \n",
    "    #readlines into a list\n",
    "    lines = [line.rstrip() for line in reader.readlines()]\n",
    "    \n",
    "    score = 0\n",
    "    \n",
    "    # For each line get my throw and opponent's \n",
    "    #   add points to score based on my throw\n",
    "    #   add points to score based on opponents throw given my throw (i.e. outcome)\n",
    "    for line in lines:\n",
    "        \n",
    "        me = line[-1]\n",
    "\n",
    "        them = line[0]\n",
    "\n",
    "        if me == \"X\":\n",
    "\n",
    "            score += 1\n",
    "\n",
    "            if them == \"A\":\n",
    "\n",
    "                score += 3\n",
    "\n",
    "            if them == \"B\":\n",
    "\n",
    "                score += 0\n",
    "\n",
    "            if them == \"C\":\n",
    "\n",
    "                score += 6\n",
    "\n",
    "        elif me == \"Y\":\n",
    "\n",
    "            score += 2\n",
    "\n",
    "            if them == \"A\":\n",
    "\n",
    "                score += 6\n",
    "\n",
    "            if them == \"B\":\n",
    "\n",
    "                score += 3\n",
    "\n",
    "            if them == \"C\":\n",
    "\n",
    "                score += 0\n",
    "\n",
    "        elif me == \"Z\":\n",
    "\n",
    "            score += 3\n",
    "\n",
    "            if them == \"A\":\n",
    "\n",
    "                score += 0\n",
    "\n",
    "            if them == \"B\":\n",
    "\n",
    "                score += 6\n",
    "\n",
    "            if them == \"C\":\n",
    "\n",
    "                score += 3\n",
    "\n",
    "score"
   ]
  },
  {
   "cell_type": "markdown",
   "id": "structural-scottish",
   "metadata": {},
   "source": [
    "Part Two\n",
    "\n",
    "The Elf finishes helping with the tent and sneaks back over to you. \"Anyway, the second column says how the round needs to end: X means you need to lose, Y means you need to end the round in a draw, and Z means you need to win. Good luck!\"\n",
    "\n",
    "The total score is still calculated in the same way, but now you need to figure out what shape to choose so the round ends as indicated. The example above now goes like this:\n",
    "\n",
    "In the first round, your opponent will choose Rock (A), and you need the round to end in a draw (Y), so you also choose Rock. This gives you a score of 1 + 3 = 4.\n",
    "In the second round, your opponent will choose Paper (B), and you choose Rock so you lose (X) with a score of 1 + 0 = 1.\n",
    "In the third round, you will defeat your opponent's Scissors with Rock for a score of 1 + 6 = 7.\n",
    "Now that you're correctly decrypting the ultra top secret strategy guide, you would get a total score of 12.\n",
    "\n",
    "Following the Elf's instructions for the second column, what would your total score be if everything goes exactly according to your strategy guide?"
   ]
  },
  {
   "cell_type": "code",
   "execution_count": 4,
   "id": "exceptional-substitute",
   "metadata": {},
   "outputs": [
    {
     "data": {
      "text/plain": [
       "10560"
      ]
     },
     "execution_count": 4,
     "metadata": {},
     "output_type": "execute_result"
    }
   ],
   "source": [
    "# open input file\n",
    "with open('day2.txt', 'r') as reader:\n",
    "    \n",
    "    #readlines into a list\n",
    "    lines = [line.rstrip() for line in reader.readlines()]\n",
    "    \n",
    "    score = 0\n",
    "    \n",
    "    # For each line get my throw and opponent's \n",
    "    #   add points to score based on outcome\n",
    "    #   add points to score \n",
    "    for line in lines:\n",
    "        \n",
    "        outcome = line[-1]\n",
    "\n",
    "        them = line[0]\n",
    "        \n",
    "        if outcome == \"X\": # lose\n",
    "\n",
    "            score += 0\n",
    "            \n",
    "            if them == \"A\": # rock\n",
    "\n",
    "                score += 3\n",
    "\n",
    "            if them == \"B\": # paper\n",
    "\n",
    "                score += 1\n",
    "\n",
    "            if them == \"C\": # scis\n",
    "\n",
    "                score += 2\n",
    "\n",
    "        elif outcome == \"Y\": # draw\n",
    "\n",
    "            score += 3\n",
    "            \n",
    "            if them == \"A\": # rock\n",
    "\n",
    "                score += 1\n",
    "\n",
    "            if them == \"B\": # paper\n",
    "\n",
    "                score += 2\n",
    "\n",
    "            if them == \"C\": # scis\n",
    "\n",
    "                score += 3\n",
    "\n",
    "        elif outcome == \"Z\": # win\n",
    "\n",
    "            score += 6\n",
    "\n",
    "            if them == \"A\": # rock\n",
    "\n",
    "                score += 2\n",
    "\n",
    "            if them == \"B\": # paper\n",
    "\n",
    "                score += 3\n",
    "\n",
    "            if them == \"C\": # scis\n",
    "\n",
    "                score += 1\n",
    "                \n",
    "score"
   ]
  },
  {
   "cell_type": "markdown",
   "id": "cardiac-ticket",
   "metadata": {},
   "source": [
    "# Day 3: Rucksack Reorganization\n",
    "\n",
    "One Elf has the important job of loading all of the rucksacks with supplies for the jungle journey. Unfortunately, that Elf didn't quite follow the packing instructions, and so a few items now need to be rearranged.\n",
    "\n",
    "Each rucksack has two large compartments. All items of a given type are meant to go into exactly one of the two compartments. The Elf that did the packing failed to follow this rule for exactly one item type per rucksack.\n",
    "\n",
    "The Elves have made a list of all of the items currently in each rucksack (your puzzle input), but they need your help finding the errors. Every item type is identified by a single lowercase or uppercase letter (that is, a and A refer to different types of items).\n",
    "\n",
    "The list of items for each rucksack is given as characters all on a single line. A given rucksack always has the same number of items in each of its two compartments, so the first half of the characters represent items in the first compartment, while the second half of the characters represent items in the second compartment.\n",
    "\n",
    "For example, suppose you have the following list of contents from six rucksacks:\n",
    "\n",
    "vJrwpWtwJgWrhcsFMMfFFhFp <br>\n",
    "jqHRNqRjqzjGDLGLrsFMfFZSrLrFZsSL <br>\n",
    "PmmdzqPrVvPwwTWBwg<br>\n",
    "wMqvLMZHhHMvwLHjbvcjnnSBnvTQFn<br>\n",
    "ttgJtRGJQctTZtZT<br>\n",
    "CrZsJsPPZsGzwwsLwLmpwMDw<br>\n",
    "\n",
    "\n",
    "The first rucksack contains the items vJrwpWtwJgWrhcsFMMfFFhFp, which means its first compartment contains the items vJrwpWtwJgWr, while the second compartment contains the items hcsFMMfFFhFp. The only item type that appears in both compartments is lowercase p.\n",
    "The second rucksack's compartments contain jqHRNqRjqzjGDLGL and rsFMfFZSrLrFZsSL. The only item type that appears in both compartments is uppercase L.\n",
    "The third rucksack's compartments contain PmmdzqPrV and vPwwTWBwg; the only common item type is uppercase P.\n",
    "The fourth rucksack's compartments only share item type v.\n",
    "The fifth rucksack's compartments only share item type t.\n",
    "The sixth rucksack's compartments only share item type s.\n",
    "To help prioritize item rearrangement, every item type can be converted to a priority:\n",
    "\n",
    "Lowercase item types a through z have priorities 1 through 26.\n",
    "Uppercase item types A through Z have priorities 27 through 52.\n",
    "In the above example, the priority of the item type that appears in both compartments of each rucksack is 16 (p), 38 (L), 42 (P), 22 (v), 20 (t), and 19 (s); the sum of these is 157.\n",
    "\n",
    "Find the item type that appears in both compartments of each rucksack. What is the sum of the priorities of those item types?"
   ]
  },
  {
   "cell_type": "code",
   "execution_count": 5,
   "id": "universal-chamber",
   "metadata": {},
   "outputs": [
    {
     "data": {
      "text/plain": [
       "8072"
      ]
     },
     "execution_count": 5,
     "metadata": {},
     "output_type": "execute_result"
    }
   ],
   "source": [
    "import string\n",
    "\n",
    "#get string containing all upper and lowercase letters in the alphabet\n",
    "alph = string.ascii_lowercase + string.ascii_uppercase\n",
    "\n",
    "# placeholder for total priority value\n",
    "priority_sum = 0\n",
    "\n",
    "# open input file\n",
    "with open('day3.txt', 'r') as reader:\n",
    "    \n",
    "    #readlines into a list\n",
    "    lines = [line.rstrip() for line in reader.readlines()]\n",
    "    \n",
    "    # for each line\n",
    "    for line in lines: \n",
    "        \n",
    "        # divide the input in half to capture sack one and sack two\n",
    "        sack_one = line[:(len(line)//2)]\n",
    "\n",
    "        sack_two = line[len(line)//2:]\n",
    "        \n",
    "        # get letter in sack_one that are also in sack_two\n",
    "        match = [letter for letter in sack_one if letter in sack_two]\n",
    "            \n",
    "        match = match[0]\n",
    "        \n",
    "        # add alph index number + 1 to priority_sum\n",
    "        priority_number = (alph.index(match) + 1)\n",
    "\n",
    "        priority_sum += priority_number\n",
    "\n",
    "priority_sum"
   ]
  },
  {
   "cell_type": "markdown",
   "id": "secondary-turkey",
   "metadata": {},
   "source": [
    "--- Part Two ---<br>\n",
    "As you finish identifying the misplaced items, the Elves come to you with another issue.\n",
    "\n",
    "For safety, the Elves are divided into groups of three. Every Elf carries a badge that identifies their group. For efficiency, within each group of three Elves, the badge is the only item type carried by all three Elves. That is, if a group's badge is item type B, then all three Elves will have item type B somewhere in their rucksack, and at most two of the Elves will be carrying any other item type.\n",
    "\n",
    "The problem is that someone forgot to put this year's updated authenticity sticker on the badges. All of the badges need to be pulled out of the rucksacks so the new authenticity stickers can be attached.\n",
    "\n",
    "Additionally, nobody wrote down which item type corresponds to each group's badges. The only way to tell which item type is the right one is by finding the one item type that is common between all three Elves in each group.\n",
    "\n",
    "Every set of three lines in your list corresponds to a single group, but each group can have a different badge item type. So, in the above example, the first group's rucksacks are the first three lines:\n",
    "\n",
    "vJrwpWtwJgWrhcsFMMfFFhFp\n",
    "jqHRNqRjqzjGDLGLrsFMfFZSrLrFZsSL\n",
    "PmmdzqPrVvPwwTWBwg\n",
    "And the second group's rucksacks are the next three lines:\n",
    "\n",
    "wMqvLMZHhHMvwLHjbvcjnnSBnvTQFn\n",
    "ttgJtRGJQctTZtZT\n",
    "CrZsJsPPZsGzwwsLwLmpwMDw\n",
    "In the first group, the only item type that appears in all three rucksacks is lowercase r; this must be their badges. In the second group, their badge item type must be Z.\n",
    "\n",
    "Priorities for these items must still be found to organize the sticker attachment efforts: here, they are 18 (r) for the first group and 52 (Z) for the second group. The sum of these is 70.\n",
    "\n",
    "Find the item type that corresponds to the badges of each three-Elf group. What is the sum of the priorities of those item types?"
   ]
  },
  {
   "cell_type": "code",
   "execution_count": 6,
   "id": "automotive-fairy",
   "metadata": {},
   "outputs": [],
   "source": [
    "import string"
   ]
  },
  {
   "cell_type": "code",
   "execution_count": 7,
   "id": "incorporate-jurisdiction",
   "metadata": {},
   "outputs": [],
   "source": [
    "def get_trilist():\n",
    "    '''opens day3 text file\n",
    "       returns a list of strings \n",
    "       where each string is the first three lines of the text seperated by a space '''\n",
    "    \n",
    "    # open input file\n",
    "    with open('day3.txt', 'r') as reader:\n",
    "\n",
    "        #readlines input lines into a list\n",
    "        lines = [line.rstrip() for line in reader.readlines()]\n",
    "\n",
    "        # get list of every three lines in input\n",
    "        trilist = []\n",
    "\n",
    "        #add every three lines together and append them to trilist seperated by spaces\n",
    "        for r in range(2,len(lines),3):\n",
    "\n",
    "            triline = lines[r-2] + ' ' + lines[r-1] + ' ' + lines[r]\n",
    "\n",
    "            trilist.append(triline)\n",
    "        \n",
    "        return trilist"
   ]
  },
  {
   "cell_type": "code",
   "execution_count": 8,
   "id": "durable-circumstances",
   "metadata": {},
   "outputs": [],
   "source": [
    "def get_badge_list(trilist):\n",
    "    \n",
    "    badge_list = []\n",
    "    # itterate through trilist\n",
    "    for elves in trilist:\n",
    "    # break each item into three parts\n",
    "        trifercated_list = elves.split(' ')\n",
    "        \n",
    "        # get list of letter in first list that is also in the other two lists and unpack letter from list\n",
    "        badge = [letter for letter in trifercated_list[0] if (letter in trifercated_list[1]) and (letter in trifercated_list[2])][0]\n",
    "\n",
    "        # append badge to badge_list\n",
    "        badge_list.append(badge)\n",
    "\n",
    "    return badge_list"
   ]
  },
  {
   "cell_type": "code",
   "execution_count": 9,
   "id": "royal-pulse",
   "metadata": {},
   "outputs": [],
   "source": [
    "def get_priority_number_sum(badge_list):\n",
    "    '''Takes in a list of badge letters\n",
    "       returns the sum of thier priority numbers '''\n",
    "\n",
    "    #get string containing all upper and lowercase letters in the alphabet\n",
    "    alph = string.ascii_lowercase + string.ascii_uppercase\n",
    "\n",
    "    #get list of priority_numbers (alph index location + 1) for each badge letter\n",
    "    priority_numbers = [(alph.index(letter) + 1) for letter in badge_list]\n",
    "\n",
    "    # return sum of list\n",
    "    return sum(priority_numbers)"
   ]
  },
  {
   "cell_type": "code",
   "execution_count": 10,
   "id": "documentary-words",
   "metadata": {},
   "outputs": [],
   "source": [
    "def elf_badges_solution():\n",
    "    '''opens day3.txt file\n",
    "       returns problem solution'''\n",
    "    \n",
    "    # open file create a list of strings made up of every three lines of input seperated by spaces \n",
    "    trilist = get_trilist()\n",
    "    \n",
    "    # get list of badge letters that are common to each elf in each set of elves\n",
    "    badge_list = get_badge_list(trilist)\n",
    "    \n",
    "    # get sum of priority_numbers related to each badge letter in badge_list\n",
    "    return get_priority_number_sum(badge_list)"
   ]
  },
  {
   "cell_type": "code",
   "execution_count": 11,
   "id": "limited-single",
   "metadata": {},
   "outputs": [
    {
     "data": {
      "text/plain": [
       "2567"
      ]
     },
     "execution_count": 11,
     "metadata": {},
     "output_type": "execute_result"
    }
   ],
   "source": [
    "elf_badges_solution()"
   ]
  },
  {
   "cell_type": "markdown",
   "id": "saved-ukraine",
   "metadata": {},
   "source": [
    "--- Day 4: Camp Cleanup ---<br>\n",
    "Space needs to be cleared before the last supplies can be unloaded from the ships, and so several Elves have been assigned the job of cleaning up sections of the camp. Every section has a unique ID number, and each Elf is assigned a range of section IDs.\n",
    "\n",
    "However, as some of the Elves compare their section assignments with each other, they've noticed that many of the assignments overlap. To try to quickly find overlaps and reduce duplicated effort, the Elves pair up and make a big list of the section assignments for each pair (your puzzle input).\n",
    "\n",
    "For example, consider the following list of section assignment pairs:\n",
    "\n",
    "2-4,6-8\n",
    "2-3,4-5\n",
    "5-7,7-9\n",
    "2-8,3-7\n",
    "6-6,4-6\n",
    "2-6,4-8\n",
    "For the first few pairs, this list means:\n",
    "\n",
    "Within the first pair of Elves, the first Elf was assigned sections 2-4 (sections 2, 3, and 4), while the second Elf was assigned sections 6-8 (sections 6, 7, 8).\n",
    "The Elves in the second pair were each assigned two sections.\n",
    "The Elves in the third pair were each assigned three sections: one got sections 5, 6, and 7, while the other also got 7, plus 8 and 9.\n",
    "This example list uses single-digit section IDs to make it easier to draw; your actual list might contain larger numbers. Visually, these pairs of section assignments look like this:\n",
    "\n",
    ".234.....  2-4\n",
    ".....678.  6-8\n",
    "\n",
    ".23......  2-3\n",
    "...45....  4-5\n",
    "\n",
    "....567..  5-7\n",
    "......789  7-9\n",
    "\n",
    ".2345678.  2-8\n",
    "..34567..  3-7\n",
    "\n",
    ".....6...  6-6\n",
    "...456...  4-6\n",
    "\n",
    ".23456...  2-6\n",
    "...45678.  4-8\n",
    "Some of the pairs have noticed that one of their assignments fully contains the other. For example, 2-8 fully contains 3-7, and 6-6 is fully contained by 4-6. In pairs where one assignment fully contains the other, one Elf in the pair would be exclusively cleaning sections their partner will already be cleaning, so these seem like the most in need of reconsideration. In this example, there are 2 such pairs.\n",
    "\n",
    "In how many assignment pairs does one range fully contain the other?"
   ]
  },
  {
   "cell_type": "code",
   "execution_count": 12,
   "id": "cosmetic-rehabilitation",
   "metadata": {},
   "outputs": [],
   "source": [
    "# this function has been added to util.py for future use\n",
    "\n",
    "def get_text_as_list(text):\n",
    "    '''opens text file\n",
    "       returns a list of strings \n",
    "       where each string a line of text'''\n",
    "    \n",
    "    # open input file\n",
    "    with open(text, 'r') as reader:\n",
    "\n",
    "        #readlines input lines into a list\n",
    "        return [line.rstrip() for line in reader.readlines()]"
   ]
  },
  {
   "cell_type": "code",
   "execution_count": 13,
   "id": "casual-tribute",
   "metadata": {},
   "outputs": [],
   "source": [
    "lines = get_text_as_list('day4.txt')"
   ]
  },
  {
   "cell_type": "code",
   "execution_count": 14,
   "id": "activated-knight",
   "metadata": {},
   "outputs": [
    {
     "data": {
      "text/plain": [
       "542"
      ]
     },
     "execution_count": 14,
     "metadata": {},
     "output_type": "execute_result"
    }
   ],
   "source": [
    "contained = 0\n",
    "\n",
    "# for each line in the input\n",
    "for line in lines:\n",
    "    \n",
    "    # split shifts into first and second shift\n",
    "    shifts = line.split(',')\n",
    "    \n",
    "    # split shift1 into start and end\n",
    "    shift1 = shifts[0].split('-')\n",
    "    \n",
    "    shift1_start = int(shift1[0])\n",
    "    \n",
    "    shift1_end = int(shift1[-1])\n",
    "    \n",
    "    # split shift2 into start and end \n",
    "    shift2 = shifts[-1].split('-')\n",
    "    \n",
    "    shift2_start = int(shift2[0])\n",
    "    \n",
    "    shift2_end = int(shift2[-1])\n",
    "    \n",
    "    # if shift1 starts on or before shift2 and ends on or after shift2  \n",
    "    # it contains shift2\n",
    "    # add one to count\n",
    "    if (shift1_start <= shift2_start) and (shift1_end >= shift2_end):\n",
    "        \n",
    "        contained += 1\n",
    "        \n",
    "    # same for shift two (elif to avoid double counting)\n",
    "    elif (shift2_start <= shift1_start) and (shift2_end >= shift1_end):\n",
    "        \n",
    "        contained += 1\n",
    "\n",
    "contained"
   ]
  },
  {
   "cell_type": "markdown",
   "id": "improved-poison",
   "metadata": {},
   "source": [
    "--- Part Two --- <br>\n",
    "It seems like there is still quite a bit of duplicate work planned. Instead, the Elves would like to know the number of pairs that overlap at all.\n",
    "\n",
    "In the above example, the first two pairs (2-4,6-8 and 2-3,4-5) don't overlap, while the remaining four pairs (5-7,7-9, 2-8,3-7, 6-6,4-6, and 2-6,4-8) do overlap:\n",
    "\n",
    "5-7,7-9 overlaps in a single section, 7.\n",
    "2-8,3-7 overlaps all of the sections 3 through 7.\n",
    "6-6,4-6 overlaps in a single section, 6.\n",
    "2-6,4-8 overlaps in sections 4, 5, and 6.\n",
    "So, in this example, the number of overlapping assignment pairs is 4.\n",
    "\n",
    "In how many assignment pairs do the ranges overlap?"
   ]
  },
  {
   "cell_type": "code",
   "execution_count": 15,
   "id": "competent-battle",
   "metadata": {},
   "outputs": [],
   "source": [
    "import util\n",
    "\n",
    "lines = util.get_text_as_list('day4.txt')"
   ]
  },
  {
   "cell_type": "code",
   "execution_count": 16,
   "id": "virgin-hypothesis",
   "metadata": {},
   "outputs": [
    {
     "data": {
      "text/plain": [
       "900"
      ]
     },
     "execution_count": 16,
     "metadata": {},
     "output_type": "execute_result"
    }
   ],
   "source": [
    "overlaps = 0\n",
    "\n",
    "# for each line in the input\n",
    "for line in lines:\n",
    "    \n",
    "    # split shifts into first and second shift\n",
    "    shifts = line.split(',')\n",
    "    \n",
    "    # split shift1 into start and end\n",
    "    shift1 = shifts[0].split('-')\n",
    "    \n",
    "    shift1_start = int(shift1[0])\n",
    "    \n",
    "    shift1_end = int(shift1[-1])\n",
    "    \n",
    "    # split shift2 into start and end \n",
    "    shift2 = shifts[-1].split('-')\n",
    "    \n",
    "    shift2_start = int(shift2[0])\n",
    "    \n",
    "    shift2_end = int(shift2[-1])\n",
    "    \n",
    "    # get list of hours for each shift\n",
    "    shift1_hours = [*range(shift1_start, shift1_end + 1)]\n",
    "    \n",
    "    shift2_hours = [*range(shift2_start, shift2_end + 1)]\n",
    "    \n",
    "    # if shift1_hours and shift2_hours have any intersecting hours add one to overlap\n",
    "    if len(set(shift1_hours).intersection(shift2_hours)) > 0:\n",
    "        \n",
    "        overlaps += 1\n",
    "        \n",
    "overlaps"
   ]
  },
  {
   "cell_type": "markdown",
   "id": "illegal-beverage",
   "metadata": {},
   "source": [
    "--- Day 5: Supply Stacks ---<br>\n",
    "The expedition can depart as soon as the final supplies have been unloaded from the ships. Supplies are stored in stacks of marked crates, but because the needed supplies are buried under many other crates, the crates need to be rearranged.\n",
    "\n",
    "The ship has a giant cargo crane capable of moving crates between stacks. To ensure none of the crates get crushed or fall over, the crane operator will rearrange them in a series of carefully-planned steps. After the crates are rearranged, the desired crates will be at the top of each stack.\n",
    "\n",
    "The Elves don't want to interrupt the crane operator during this delicate procedure, but they forgot to ask her which crate will end up where, and they want to be ready to unload them as soon as possible so they can embark.\n",
    "\n",
    "They do, however, have a drawing of the starting stacks of crates and the rearrangement procedure (your puzzle input). For example:\n",
    "\n",
    "    [D]    \n",
    "[N] [C]    \n",
    "[Z] [M] [P]\n",
    " 1   2   3 \n",
    "\n",
    "move 1 from 2 to 1\n",
    "move 3 from 1 to 3\n",
    "move 2 from 2 to 1\n",
    "move 1 from 1 to 2\n",
    "In this example, there are three stacks of crates. Stack 1 contains two crates: crate Z is on the bottom, and crate N is on top. Stack 2 contains three crates; from bottom to top, they are crates M, C, and D. Finally, stack 3 contains a single crate, P.\n",
    "\n",
    "Then, the rearrangement procedure is given. In each step of the procedure, a quantity of crates is moved from one stack to a different stack. In the first step of the above rearrangement procedure, one crate is moved from stack 2 to stack 1, resulting in this configuration:\n",
    "\n",
    "[D]        \n",
    "[N] [C]    \n",
    "[Z] [M] [P]\n",
    " 1   2   3 \n",
    "In the second step, three crates are moved from stack 1 to stack 3. Crates are moved one at a time, so the first crate to be moved (D) ends up below the second and third crates:\n",
    "\n",
    "        [Z]\n",
    "        [N]\n",
    "    [C] [D]\n",
    "    [M] [P]\n",
    " 1   2   3\n",
    "Then, both crates are moved from stack 2 to stack 1. Again, because crates are moved one at a time, crate C ends up below crate M:\n",
    "\n",
    "        [Z]\n",
    "        [N]\n",
    "[M]     [D]\n",
    "[C]     [P]\n",
    " 1   2   3\n",
    "Finally, one crate is moved from stack 1 to stack 2:\n",
    "\n",
    "        [Z]\n",
    "        [N]\n",
    "        [D]\n",
    "[C] [M] [P]\n",
    " 1   2   3\n",
    "The Elves just need to know which crate will end up on top of each stack; in this example, the top crates are C in stack 1, M in stack 2, and Z in stack 3, so you should combine these together and give the Elves the message CMZ.\n",
    "\n",
    "After the rearrangement procedure completes, what crate ends up on top of each stack?"
   ]
  },
  {
   "cell_type": "code",
   "execution_count": null,
   "id": "expanded-stretch",
   "metadata": {},
   "outputs": [],
   "source": [
    "stack_1 = ['R','G','H','Q','S','B','T','N']\n",
    "stack_2 = ['H','S','F','D','P','Z','J']\n",
    "stack_3 = ['V','H','S']\n",
    "stack_4 = ['M','Z','J','F','G','H']\n",
    "stack_5 = ['T','Z','C','D','L','M','S','R']\n",
    "stack_6 = ['M','T','W','V','H','Z','J']\n",
    "stack_7 = ['T','F','P','L','Z']\n",
    "stack_8 = ['Q','V','W','S']\n",
    "stack_9 = ['W','H','L','M','T','D','N','C']"
   ]
  },
  {
   "cell_type": "code",
   "execution_count": 8,
   "id": "previous-martial",
   "metadata": {},
   "outputs": [
    {
     "name": "stdout",
     "output_type": "stream",
     "text": [
      "[['3', '9', '7'], ['4', '4', '5'], ['2', '4', '6'], ['4', '7', '5'], ['3', '7', '3'], ['2', '5', '9'], ['5', '6', '3'], ['5', '9', '1'], ['3', '8', '4'], ['3', '4', '6'], ['8', '1', '8'], ['1', '8', '6'], ['2', '8', '2'], ['5', '8', '4'], ['1', '8', '1'], ['6', '6', '4'], ['1', '7', '9'], ['5', '1', '7'], ['1', '1', '2'], ['2', '9', '8'], ['6', '4', '9'], ['1', '6', '8'], ['3', '2', '7'], ['4', '2', '8'], ['4', '9', '3'], ['6', '5', '4'], ['7', '8', '1'], ['10', '4', '1'], ['12', '1', '5'], ['1', '4', '9'], ['1', '2', '3'], ['2', '9', '1'], ['1', '9', '3'], ['1', '6', '7'], ['1', '9', '1'], ['3', '1', '3'], ['9', '5', '9'], ['2', '2', '7'], ['2', '7', '4'], ['3', '9', '4'], ['7', '5', '7'], ['5', '1', '3'], ['2', '4', '5'], ['1', '4', '6'], ['1', '6', '9'], ['4', '9', '2'], ['12', '7', '9'], ['2', '4', '9'], ['6', '5', '9'], ['3', '7', '6'], ['12', '9', '6'], ['5', '9', '1'], ['1', '7', '6'], ['14', '6', '1'], ['20', '3', '5'], ['5', '9', '5'], ['3', '2', '8'], ['1', '6', '4'], ['1', '9', '2'], ['1', '4', '6'], ['1', '2', '6'], ['16', '1', '5'], ['1', '2', '1'], ['12', '5', '6'], ['1', '8', '4'], ['29', '5', '1'], ['5', '6', '9'], ['20', '1', '3'], ['4', '1', '3'], ['11', '3', '8'], ['1', '4', '3'], ['4', '9', '8'], ['7', '1', '8'], ['2', '3', '2'], ['2', '6', '7'], ['1', '9', '8'], ['10', '3', '5'], ['1', '6', '1'], ['1', '7', '2'], ['3', '1', '2'], ['6', '2', '4'], ['2', '6', '3'], ['4', '6', '5'], ['1', '6', '2'], ['1', '2', '9'], ['6', '5', '2'], ['1', '9', '3'], ['24', '8', '7'], ['1', '4', '8'], ['5', '5', '4'], ['1', '4', '8'], ['1', '8', '7'], ['2', '8', '9'], ['1', '9', '7'], ['6', '2', '4'], ['10', '3', '7'], ['3', '5', '3'], ['1', '9', '8'], ['3', '3', '8'], ['4', '8', '7'], ['1', '4', '6'], ['1', '6', '4'], ['13', '4', '3'], ['17', '7', '6'], ['1', '6', '3'], ['2', '4', '8'], ['3', '7', '5'], ['14', '6', '7'], ['1', '5', '9'], ['1', '5', '9'], ['2', '6', '7'], ['1', '5', '1'], ['1', '1', '6'], ['1', '9', '3'], ['29', '7', '4'], ['10', '4', '3'], ['6', '7', '5'], ['1', '6', '5'], ['1', '9', '7'], ['1', '7', '2'], ['4', '3', '2'], ['1', '2', '9'], ['1', '8', '5'], ['11', '3', '4'], ['24', '4', '7'], ['2', '2', '5'], ['10', '3', '2'], ['6', '2', '1'], ['5', '4', '7'], ['1', '9', '2'], ['3', '5', '1'], ['1', '4', '6'], ['4', '2', '3'], ['5', '5', '7'], ['2', '5', '3'], ['32', '7', '5'], ['16', '5', '1'], ['1', '1', '2'], ['3', '2', '9'], ['1', '8', '6'], ['3', '7', '6'], ['1', '2', '4'], ['5', '6', '8'], ['5', '8', '6'], ['2', '9', '3'], ['1', '7', '5'], ['9', '5', '4'], ['1', '9', '1'], ['2', '3', '1'], ['4', '3', '6'], ['1', '3', '8'], ['6', '4', '6'], ['6', '5', '9'], ['1', '9', '6'], ['1', '5', '1'], ['1', '5', '4'], ['1', '3', '6'], ['1', '8', '3'], ['1', '4', '2'], ['1', '2', '3'], ['17', '6', '4'], ['4', '1', '8'], ['3', '9', '6'], ['1', '8', '4'], ['1', '9', '7'], ['2', '6', '2'], ['1', '7', '8'], ['12', '1', '9'], ['8', '9', '2'], ['1', '6', '9'], ['6', '2', '8'], ['2', '8', '3'], ['18', '4', '9'], ['2', '1', '6'], ['1', '6', '5'], ['3', '4', '3'], ['7', '3', '8'], ['4', '2', '7'], ['1', '4', '6'], ['2', '6', '4'], ['13', '9', '6'], ['1', '5', '2'], ['5', '9', '3'], ['9', '1', '2'], ['1', '1', '8'], ['1', '2', '6'], ['3', '7', '6'], ['2', '2', '6'], ['9', '8', '6'], ['1', '7', '8'], ['1', '8', '7'], ['2', '4', '6'], ['5', '3', '6'], ['17', '6', '9'], ['7', '8', '4'], ['4', '2', '3'], ['17', '6', '2'], ['1', '6', '4'], ['1', '7', '8'], ['1', '8', '9'], ['24', '9', '6'], ['4', '3', '1'], ['1', '1', '5'], ['20', '6', '4'], ['4', '6', '9'], ['1', '5', '7'], ['2', '4', '2'], ['1', '9', '7'], ['25', '4', '3'], ['1', '4', '2'], ['2', '1', '6'], ['3', '9', '4'], ['2', '4', '7'], ['2', '7', '5'], ['1', '4', '2'], ['1', '6', '3'], ['1', '1', '5'], ['5', '3', '9'], ['1', '5', '6'], ['10', '2', '8'], ['9', '2', '5'], ['21', '3', '6'], ['1', '7', '6'], ['2', '6', '5'], ['5', '9', '7'], ['6', '7', '8'], ['19', '6', '9'], ['1', '6', '1'], ['8', '8', '1'], ['1', '6', '1'], ['2', '8', '5'], ['5', '9', '2'], ['6', '8', '2'], ['2', '9', '7'], ['9', '9', '4'], ['7', '2', '4'], ['1', '6', '4'], ['14', '5', '9'], ['1', '1', '8'], ['1', '7', '9'], ['4', '2', '9'], ['16', '4', '6'], ['3', '2', '8'], ['1', '6', '2'], ['2', '8', '9'], ['1', '8', '7'], ['1', '8', '3'], ['3', '2', '7'], ['1', '3', '9'], ['8', '9', '3'], ['4', '7', '8'], ['1', '5', '4'], ['4', '6', '3'], ['1', '4', '2'], ['9', '3', '8'], ['10', '9', '5'], ['8', '6', '7'], ['13', '8', '4'], ['8', '5', '2'], ['3', '6', '3'], ['7', '9', '6'], ['7', '7', '2'], ['2', '4', '6'], ['5', '6', '2'], ['3', '1', '5'], ['5', '5', '8'], ['4', '6', '2'], ['4', '1', '8'], ['15', '2', '6'], ['11', '4', '9'], ['12', '6', '8'], ['1', '6', '9'], ['5', '3', '7'], ['2', '2', '6'], ['6', '7', '1'], ['3', '1', '3'], ['1', '4', '1'], ['1', '3', '9'], ['1', '3', '9'], ['1', '7', '6'], ['1', '3', '2'], ['4', '2', '6'], ['4', '2', '7'], ['1', '2', '6'], ['4', '1', '6'], ['12', '6', '7'], ['2', '6', '1'], ['8', '9', '6'], ['1', '7', '4'], ['14', '8', '1'], ['8', '1', '5'], ['1', '3', '9'], ['5', '9', '5'], ['1', '8', '9'], ['1', '9', '2'], ['1', '9', '3'], ['5', '8', '3'], ['12', '5', '4'], ['1', '9', '2'], ['6', '7', '3'], ['7', '3', '2'], ['1', '5', '1'], ['1', '8', '3'], ['2', '1', '3'], ['2', '6', '9'], ['5', '6', '5'], ['5', '1', '7'], ['4', '4', '1'], ['7', '2', '8'], ['4', '3', '8'], ['1', '9', '3'], ['1', '9', '5'], ['4', '1', '8'], ['10', '7', '9'], ['1', '6', '7'], ['2', '8', '6'], ['6', '4', '2'], ['5', '3', '1'], ['2', '6', '3'], ['2', '7', '1'], ['5', '2', '5'], ['2', '7', '1'], ['7', '5', '7'], ['2', '5', '6'], ['2', '5', '3'], ['3', '2', '9'], ['9', '9', '3'], ['1', '6', '4'], ['3', '3', '1'], ['9', '8', '2'], ['6', '3', '6'], ['8', '7', '9'], ['4', '9', '8'], ['14', '1', '5'], ['1', '9', '2'], ['1', '1', '5'], ['2', '3', '6'], ['12', '5', '3'], ['2', '2', '8'], ['7', '6', '2'], ['12', '2', '8'], ['2', '6', '2'], ['6', '9', '6'], ['1', '1', '2'], ['1', '9', '3'], ['2', '5', '9'], ['1', '9', '2'], ['1', '9', '4'], ['1', '3', '2'], ['2', '6', '7'], ['2', '6', '9'], ['5', '4', '2'], ['14', '3', '9'], ['15', '9', '4'], ['1', '7', '4'], ['10', '8', '6'], ['1', '5', '9'], ['2', '9', '5'], ['10', '8', '1'], ['1', '7', '4'], ['5', '1', '2'], ['2', '1', '5'], ['3', '4', '6'], ['4', '5', '8'], ['5', '8', '6'], ['14', '2', '9'], ['2', '6', '7'], ['3', '2', '9'], ['3', '1', '7'], ['1', '7', '3'], ['3', '7', '1'], ['1', '3', '6'], ['1', '7', '6'], ['1', '8', '9'], ['2', '1', '4'], ['1', '1', '2'], ['16', '9', '4'], ['7', '4', '8'], ['5', '8', '1'], ['2', '8', '3'], ['2', '1', '7'], ['13', '6', '7'], ['2', '2', '3'], ['4', '7', '4'], ['6', '4', '5'], ['4', '7', '6'], ['3', '1', '2'], ['2', '2', '6'], ['3', '3', '8'], ['5', '5', '3'], ['2', '9', '6'], ['3', '3', '7'], ['1', '8', '1'], ['22', '4', '8'], ['1', '4', '3'], ['9', '6', '3'], ['1', '2', '1'], ['4', '3', '4'], ['2', '4', '5'], ['1', '1', '7'], ['4', '3', '7'], ['2', '6', '1'], ['1', '6', '7'], ['18', '8', '7'], ['2', '6', '5'], ['2', '3', '4'], ['1', '5', '4'], ['30', '7', '6'], ['2', '1', '3'], ['18', '6', '8'], ['12', '6', '4'], ['13', '4', '9'], ['2', '3', '8'], ['1', '6', '2'], ['3', '7', '2'], ['1', '1', '2'], ['2', '5', '9'], ['8', '8', '1'], ['1', '7', '8'], ['7', '1', '3'], ['2', '4', '9'], ['1', '1', '6'], ['4', '2', '1'], ['16', '8', '1'], ['1', '2', '6'], ['2', '4', '8'], ['2', '5', '1'], ['4', '3', '7'], ['3', '7', '1'], ['1', '6', '8'], ['1', '8', '9'], ['1', '7', '3'], ['6', '3', '5'], ['1', '3', '8'], ['1', '6', '9'], ['16', '9', '5'], ['4', '5', '3'], ['15', '5', '1'], ['1', '5', '8'], ['3', '9', '8'], ['9', '8', '5'], ['6', '5', '1'], ['4', '5', '6'], ['2', '6', '4'], ['1', '6', '4'], ['1', '8', '4'], ['3', '3', '6'], ['3', '6', '8'], ['1', '6', '8'], ['21', '1', '9'], ['4', '8', '5'], ['3', '5', '7'], ['2', '5', '1'], ['2', '4', '8'], ['2', '8', '2'], ['2', '7', '8'], ['1', '7', '9'], ['1', '8', '7'], ['5', '1', '8'], ['1', '7', '8'], ['4', '8', '4'], ['2', '4', '5'], ['1', '2', '7'], ['1', '2', '7'], ['2', '7', '6'], ['2', '6', '9'], ['1', '4', '9'], ['1', '3', '4'], ['16', '1', '5'], ['16', '5', '7'], ['2', '5', '4'], ['14', '9', '6'], ['5', '4', '3'], ['3', '3', '6'], ['5', '1', '4'], ['2', '4', '7'], ['7', '9', '4'], ['2', '9', '7'], ['10', '6', '9'], ['8', '4', '6'], ['1', '8', '4'], ['1', '1', '9'], ['14', '6', '3'], ['10', '3', '2'], ['3', '7', '8'], ['6', '3', '1'], ['2', '7', '9'], ['5', '7', '9'], ['10', '9', '1'], ['2', '4', '3'], ['1', '2', '1'], ['16', '1', '4'], ['1', '6', '1'], ['2', '3', '9'], ['3', '8', '5'], ['8', '7', '1'], ['3', '5', '9'], ['7', '4', '6'], ['7', '1', '5'], ['2', '8', '3'], ['1', '7', '8']]\n"
     ]
    }
   ],
   "source": [
    "print(number_list)"
   ]
  },
  {
   "cell_type": "code",
   "execution_count": 7,
   "id": "danish-number",
   "metadata": {},
   "outputs": [
    {
     "name": "stdout",
     "output_type": "stream",
     "text": [
      "8\n",
      "8 ['W', 'H', 'L', 'M', 'T'] ['D', 'N', 'C']\n"
     ]
    },
    {
     "ename": "IndexError",
     "evalue": "list assignment index out of range",
     "output_type": "error",
     "traceback": [
      "\u001b[0;31m---------------------------------------------------------------------------\u001b[0m",
      "\u001b[0;31mIndexError\u001b[0m                                Traceback (most recent call last)",
      "\u001b[0;32m<ipython-input-7-0ba8aa61c8a4>\u001b[0m in \u001b[0;36m<module>\u001b[0;34m\u001b[0m\n\u001b[1;32m     46\u001b[0m \u001b[0;34m\u001b[0m\u001b[0m\n\u001b[1;32m     47\u001b[0m     \u001b[0;31m# add remaining blocks back to stacks\u001b[0m\u001b[0;34m\u001b[0m\u001b[0;34m\u001b[0m\u001b[0;34m\u001b[0m\u001b[0m\n\u001b[0;32m---> 48\u001b[0;31m     \u001b[0mstacks\u001b[0m\u001b[0;34m[\u001b[0m\u001b[0mfrom_index\u001b[0m\u001b[0;34m]\u001b[0m \u001b[0;34m=\u001b[0m \u001b[0mremaining_blocks\u001b[0m\u001b[0;34m\u001b[0m\u001b[0;34m\u001b[0m\u001b[0m\n\u001b[0m\u001b[1;32m     49\u001b[0m \u001b[0;34m\u001b[0m\u001b[0m\n\u001b[1;32m     50\u001b[0m     \u001b[0;31m# reverse moving blocks and add them onto the list in stacks at to_index\u001b[0m\u001b[0;34m\u001b[0m\u001b[0;34m\u001b[0m\u001b[0;34m\u001b[0m\u001b[0m\n",
      "\u001b[0;31mIndexError\u001b[0m: list assignment index out of range"
     ]
    }
   ],
   "source": [
    "import util\n",
    "import re\n",
    "import numpy as np\n",
    "\n",
    "# define stacks\n",
    "stacks = [['R','G','H','Q','S','B','T','N'],\n",
    "          ['H','S','F','D','P','Z','J'],\n",
    "          ['V','H','S'],\n",
    "          ['M','Z','J','F','G','H'],\n",
    "          ['T','Z','C','D','L','M','S','R'],\n",
    "          ['M','T','W','V','H','Z','J'],\n",
    "          ['T','F','P','L','Z'],\n",
    "          ['Q','V','W','S'],\n",
    "          ['W','H','L','M','T','D','N','C']]\n",
    "\n",
    "# import input text as list \n",
    "lines = util.get_text_as_list('day5.txt')\n",
    "\n",
    "# cut list of imput text to only include orders\n",
    "orders = lines[10:]\n",
    "\n",
    "# get list of numbers for each order\n",
    "number_list = [re.findall(r'[0-9]+', order) for order in orders]\n",
    "\n",
    "# for each order\n",
    "for number in number_list:\n",
    "    \n",
    "    # number of crates to move\n",
    "    moves = int(number[0])\n",
    "    \n",
    "    # index number of crate to move from\n",
    "    from_index = int(number[1])-1\n",
    "    \n",
    "    print(from_index)\n",
    "    print(len(from_stack), remaning_blocks, moving_blocks)\n",
    "    # index number of crate to move to\n",
    "    to_index = int(number[2])-1\n",
    "    \n",
    "    # remove stack at from_index from stacks and save crates in stack as from_stack\n",
    "    from_stack = stacks.pop(from_index)\n",
    "    \n",
    "    # seperate block remaining in the stack from blocks being moved\n",
    "    remaining_blocks = from_stack[:(moves * -1)]\n",
    "    \n",
    "    moving_blocks = from_stack[len(from_stack)-moves:]\n",
    "    \n",
    "    # add remaining blocks back to stacks\n",
    "    stacks[from_index] = remaining_blocks\n",
    "    \n",
    "    # reverse moving blocks and add them onto the list in stacks at to_index\n",
    "    moving_blocks.reverse()\n",
    "    \n",
    "    stacks[to_index] = stats[to_index] + moving_blocks\n",
    "    \n",
    "    \n",
    "# print top of every stack     \n",
    "for stack in stacks:\n",
    "    \n",
    "    print(stack[-1])\n",
    "    "
   ]
  },
  {
   "cell_type": "code",
   "execution_count": 91,
   "id": "ready-coordination",
   "metadata": {},
   "outputs": [
    {
     "data": {
      "text/plain": [
       "[['R', 'G', 'H', 'Q', 'S', 'B', 'T', 'N'],\n",
       " ['H', 'S', 'F', 'D', 'P', 'Z', 'J'],\n",
       " ['V', 'H', 'S'],\n",
       " ['M', 'Z', 'J', 'F', 'G', 'H'],\n",
       " ['T', 'Z', 'C', 'D', 'L', 'M', 'S', 'R'],\n",
       " ['M', 'T', 'W', 'V', 'H', 'Z', 'J'],\n",
       " ['T', 'F', 'P', 'L', 'Z'],\n",
       " ['Q', 'V', 'W', 'S'],\n",
       " ['W', 'H', 'L', 'M', 'T', 'D', 'N', 'C']]"
      ]
     },
     "execution_count": 91,
     "metadata": {},
     "output_type": "execute_result"
    }
   ],
   "source": [
    "stacks = [['R','G','H','Q','S','B','T','N'],\n",
    "                   ['H','S','F','D','P','Z','J'],\n",
    "                   ['V','H','S'],\n",
    "                   ['M','Z','J','F','G','H'],\n",
    "                   ['T','Z','C','D','L','M','S','R'],\n",
    "                   ['M','T','W','V','H','Z','J'],\n",
    "                   ['T','F','P','L','Z'],\n",
    "                   ['Q','V','W','S'],\n",
    "                   ['W','H','L','M','T','D','N','C']]\n",
    "stacks"
   ]
  },
  {
   "cell_type": "code",
   "execution_count": 92,
   "id": "industrial-reasoning",
   "metadata": {},
   "outputs": [
    {
     "data": {
      "text/plain": [
       "['V', 'H', 'S']"
      ]
     },
     "execution_count": 92,
     "metadata": {},
     "output_type": "execute_result"
    }
   ],
   "source": [
    "from_stack = stacks.pop(2)\n",
    "from_stack"
   ]
  },
  {
   "cell_type": "code",
   "execution_count": 93,
   "id": "blocked-upper",
   "metadata": {},
   "outputs": [
    {
     "data": {
      "text/plain": [
       "['V']"
      ]
     },
     "execution_count": 93,
     "metadata": {},
     "output_type": "execute_result"
    }
   ],
   "source": [
    "remaning_blocks = from_stack[:-2]\n",
    "remaning_blocks"
   ]
  },
  {
   "cell_type": "code",
   "execution_count": 94,
   "id": "spatial-given",
   "metadata": {},
   "outputs": [],
   "source": [
    "moving_blocks = from_stack[1:]\n",
    "moving_blocks.reverse()"
   ]
  },
  {
   "cell_type": "code",
   "execution_count": 95,
   "id": "potential-employee",
   "metadata": {},
   "outputs": [
    {
     "data": {
      "text/plain": [
       "[['R', 'G', 'H', 'Q', 'S', 'B', 'T', 'N'],\n",
       " ['H', 'S', 'F', 'D', 'P', 'Z', 'J'],\n",
       " ['V'],\n",
       " ['T', 'Z', 'C', 'D', 'L', 'M', 'S', 'R'],\n",
       " ['M', 'T', 'W', 'V', 'H', 'Z', 'J'],\n",
       " ['T', 'F', 'P', 'L', 'Z'],\n",
       " ['Q', 'V', 'W', 'S'],\n",
       " ['W', 'H', 'L', 'M', 'T', 'D', 'N', 'C']]"
      ]
     },
     "execution_count": 95,
     "metadata": {},
     "output_type": "execute_result"
    }
   ],
   "source": [
    "stacks[2] = remaning_blocks\n",
    "stacks"
   ]
  },
  {
   "cell_type": "code",
   "execution_count": 96,
   "id": "impossible-alignment",
   "metadata": {},
   "outputs": [
    {
     "data": {
      "text/plain": [
       "[['R', 'G', 'H', 'Q', 'S', 'B', 'T', 'N'],\n",
       " ['H', 'S', 'F', 'D', 'P', 'Z', 'J'],\n",
       " ['V'],\n",
       " ['T', 'Z', 'C', 'D', 'L', 'M', 'S', 'R'],\n",
       " ['M', 'T', 'W', 'V', 'H', 'Z', 'J'],\n",
       " ['T', 'F', 'P', 'L', 'Z'],\n",
       " ['Q', 'V', 'W', 'S'],\n",
       " ['W', 'H', 'L', 'M', 'T', 'D', 'N', 'C', 'S', 'H']]"
      ]
     },
     "execution_count": 96,
     "metadata": {},
     "output_type": "execute_result"
    }
   ],
   "source": [
    "stacks[7] = stacks[7] + moving_blocks\n",
    "stacks"
   ]
  },
  {
   "cell_type": "code",
   "execution_count": 29,
   "id": "fitted-going",
   "metadata": {},
   "outputs": [],
   "source": [
    "space_1 = ['R','G','H','Q','S','B','T','N']\n",
    "space_2 = ['H','S','F','D','P','Z','J']\n",
    "space3 = ['V','H','S']\n",
    "space4 = ['M','Z','J','F','G','H']\n",
    "space5 = ['T','Z','C','D','L','M','S','R']\n",
    "space6 = ['M','T','W','V','H','Z','J']\n",
    "space7 = ['T','F','P','L','Z']\n",
    "space8 = ['Q','V','W','S']\n",
    "space9 = ['W','H','L','M','T','D','N','C']    "
   ]
  },
  {
   "cell_type": "code",
   "execution_count": null,
   "id": "discrete-complexity",
   "metadata": {},
   "outputs": [],
   "source": []
  }
 ],
 "metadata": {
  "kernelspec": {
   "display_name": "Python 3",
   "language": "python",
   "name": "python3"
  },
  "language_info": {
   "codemirror_mode": {
    "name": "ipython",
    "version": 3
   },
   "file_extension": ".py",
   "mimetype": "text/x-python",
   "name": "python",
   "nbconvert_exporter": "python",
   "pygments_lexer": "ipython3",
   "version": "3.7.4"
  }
 },
 "nbformat": 4,
 "nbformat_minor": 5
}
