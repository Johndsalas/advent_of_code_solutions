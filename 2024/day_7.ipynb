{
 "cells": [
  {
   "cell_type": "markdown",
   "id": "major-reading",
   "metadata": {},
   "source": [
    "--- Day 7: Bridge Repair ---\n",
    "The Historians take you to a familiar rope bridge over a river in the middle of a jungle. The Chief isn't on this side of the bridge, though; maybe he's on the other side?\n",
    "\n",
    "When you go to cross the bridge, you notice a group of engineers trying to repair it. (Apparently, it breaks pretty frequently.) You won't be able to cross until it's fixed.\n",
    "\n",
    "You ask how long it'll take; the engineers tell you that it only needs final calibrations, but some young elephants were playing nearby and stole all the operators from their calibration equations! They could finish the calibrations if only someone could determine which test values could possibly be produced by placing any combination of operators into their calibration equations (your puzzle input).\n",
    "\n",
    "For example:\n",
    "\n",
    "190: 10 19\n",
    "3267: 81 40 27\n",
    "83: 17 5\n",
    "156: 15 6\n",
    "7290: 6 8 6 15\n",
    "161011: 16 10 13\n",
    "192: 17 8 14\n",
    "21037: 9 7 18 13\n",
    "292: 11 6 16 20\n",
    "Each line represents a single equation. The test value appears before the colon on each line; it is your job to determine whether the remaining numbers can be combined with operators to produce the test value.\n",
    "\n",
    "Operators are always evaluated left-to-right, not according to precedence rules. Furthermore, numbers in the equations cannot be rearranged. Glancing into the jungle, you can see elephants holding two different types of operators: add (+) and multiply (*).\n",
    "\n",
    "Only three of the above equations can be made true by inserting operators:\n",
    "\n",
    "190: 10 19 has only one position that accepts an operator: between 10 and 19. Choosing + would give 29, but choosing * would give the test value (10 * 19 = 190).\n",
    "3267: 81 40 27 has two positions for operators. Of the four possible configurations of the operators, two cause the right side to match the test value: 81 + 40 * 27 and 81 * 40 + 27 both equal 3267 (when evaluated left-to-right)!\n",
    "292: 11 6 16 20 can be solved in exactly one way: 11 + 6 * 16 + 20.\n",
    "The engineers just need the total calibration result, which is the sum of the test values from just the equations that could possibly be true. In the above example, the sum of the test values for the three equations listed above is 3749.\n",
    "\n",
    "Determine which equations could possibly be true. What is their total calibration result?"
   ]
  },
  {
   "cell_type": "code",
   "execution_count": 39,
   "id": "fuzzy-rabbit",
   "metadata": {},
   "outputs": [
    {
     "data": {
      "text/plain": [
       "2314935962622"
      ]
     },
     "execution_count": 39,
     "metadata": {},
     "output_type": "execute_result"
    }
   ],
   "source": [
    "def passes_test(p_li, a_li, index):\n",
    "    \n",
    "    new = []\n",
    "    \n",
    "    for num in p_li:\n",
    "        \n",
    "        new.append(num/a_li[index])\n",
    "        \n",
    "        new.append(num-a_li[index])\n",
    "        \n",
    "    if index == len(a_li)-1:\n",
    "        \n",
    "        if 0 in new:\n",
    "            \n",
    "            return True\n",
    "        \n",
    "        else:\n",
    "        \n",
    "            return False\n",
    "        \n",
    "    return passes_test(new, a_li, index+1)\n",
    "\n",
    "\n",
    "# read in input\n",
    "li = [line.strip() for line in open('d7.txt').readlines()]\n",
    "\n",
    "total = 0\n",
    "# for each line\n",
    "for nums in li:\n",
    "    \n",
    "    # seperate inout into test value and trial numbers\n",
    "    nums = nums.split(':')\n",
    "    \n",
    "    test_value = int(nums[0])\n",
    "    \n",
    "    trial_nums = nums[1][1:].split(' ')\n",
    "    \n",
    "    trial_nums = list(map(int,trial_nums))\n",
    "    \n",
    "    trial_nums.reverse()\n",
    "    \n",
    "    if passes_test([test_value], trial_nums, 0):\n",
    "        \n",
    "        total += test_value\n",
    "        \n",
    "total"
   ]
  },
  {
   "cell_type": "markdown",
   "id": "naval-interpretation",
   "metadata": {},
   "source": [
    "--- Part Two ---\n",
    "The engineers seem concerned; the total calibration result you gave them is nowhere close to being within safety tolerances. Just then, you spot your mistake: some well-hidden elephants are holding a third type of operator.\n",
    "\n",
    "The concatenation operator (||) combines the digits from its left and right inputs into a single number. For example, 12 || 345 would become 12345. All operators are still evaluated left-to-right.\n",
    "\n",
    "Now, apart from the three equations that could be made true using only addition and multiplication, the above example has three more equations that can be made true by inserting operators:\n",
    "\n",
    "156: 15 6 can be made true through a single concatenation: 15 || 6 = 156.\n",
    "7290: 6 8 6 15 can be made true using 6 * 8 || 6 * 15.\n",
    "192: 17 8 14 can be made true using 17 || 8 + 14.\n",
    "Adding up all six test values (the three that could be made before using only + and * plus the new three that can now be made by also using ||) produces the new total calibration result of 11387.\n",
    "\n",
    "Using your new knowledge of elephant hiding spots, determine which equations could possibly be true. What is their total calibration result?"
   ]
  },
  {
   "cell_type": "code",
   "execution_count": 50,
   "id": "aggressive-provincial",
   "metadata": {},
   "outputs": [
    {
     "name": "stdout",
     "output_type": "stream",
     "text": [
      "190 [19, 10]\n",
      "True\n",
      "3267 [27, 40, 81]\n",
      "True\n",
      "83 [5, 17]\n",
      "False\n",
      "156 [6, 15]\n",
      "False\n",
      "7290 [15, 6, 8, 6]\n",
      "False\n",
      "161011 [13, 10, 16]\n",
      "False\n",
      "192 [14, 8, 17]\n",
      "False\n",
      "21037 [13, 18, 7, 9]\n",
      "False\n",
      "292 [20, 16, 6, 11]\n",
      "True\n"
     ]
    },
    {
     "data": {
      "text/plain": [
       "3749"
      ]
     },
     "execution_count": 50,
     "metadata": {},
     "output_type": "execute_result"
    }
   ],
   "source": [
    "def passes_test(target_values, test_values, index):\n",
    "    \n",
    "    # get next number in sequence and mergre of next two numbers in sequence for test values\n",
    "    \n",
    "    num1 = test_values[index]\n",
    "    \n",
    "    try:\n",
    "        num2 = test_values[index+1]\n",
    "\n",
    "        merge = str(num1) + str(num2)\n",
    "    \n",
    "    except:\n",
    "        \n",
    "        pass\n",
    "        \n",
    "    # empty list for new set of target values\n",
    "    new_target_values = []\n",
    "    \n",
    "    # add values for dividing and subtracting the next value and merge value from each target value \n",
    "    # to new target values\n",
    "    for value in target_values:\n",
    "        \n",
    "            new_target_values.append(value/num1)\n",
    "\n",
    "            new_target_values.append(value-num1)\n",
    "            \n",
    "            try:\n",
    "                \n",
    "                new_target_values.append(value/merge)\n",
    "\n",
    "                new_target_values.append(value-merge)\n",
    "                \n",
    "            except:\n",
    "                \n",
    "                pass\n",
    "\n",
    "    # if the index is at the end of \n",
    "    if index == len(test_values)-1:\n",
    "        \n",
    "        if 0 in new_target_values:\n",
    "            \n",
    "            return True\n",
    "        \n",
    "        else:\n",
    "        \n",
    "            return False\n",
    "        \n",
    "    return passes_test(new_target_values, test_values, index + 1)\n",
    "\n",
    "\n",
    "# read in input\n",
    "li = [line.strip() for line in open('d7ex.txt').readlines()]\n",
    "\n",
    "total = 0\n",
    "# for each line\n",
    "for nums in li:\n",
    "    \n",
    "    # Seperate out target value from test values\n",
    "    nums = nums.split(':')\n",
    "    \n",
    "    target_value = int(nums[0])\n",
    "\n",
    "    trial_values = nums[1][1:].split(' ')\n",
    "    trial_values = list(map(int,trial_values))\n",
    "    trial_values.reverse()\n",
    "    \n",
    "    print(target_value, trial_values)\n",
    "    print(passes_test([target_value], trial_values, 0))\n",
    "    \n",
    "    if passes_test([target_value], trial_values, 0):\n",
    "        \n",
    "        total += target_value\n",
    "\n",
    "total"
   ]
  },
  {
   "cell_type": "code",
   "execution_count": 52,
   "id": "described-change",
   "metadata": {},
   "outputs": [
    {
     "name": "stdout",
     "output_type": "stream",
     "text": [
      "0\n",
      "15 6 615\n",
      "[486.0, 7275, 11.853658536585366, 6675]\n",
      "1\n",
      "6 8 86\n",
      "[81.0, 480.0, 5.651162790697675, 400.0, 1212.5, 7269, 84.59302325581395, 7189, 1.975609756097561, 5.853658536585366, 0.13783323879750425, -74.14634146341463, 1112.5, 6669, 77.61627906976744, 6589]\n",
      "2\n",
      "8 6 68\n",
      "[10.125, 73.0, 1.1911764705882353, 13.0, 60.0, 472.0, 7.0588235294117645, 412.0, 0.7063953488372093, -2.3488372093023253, 0.08310533515731874, -62.348837209302324, 50.0, 392.0, 5.882352941176471, 332.0, 151.5625, 1204.5, 17.830882352941178, 1144.5, 908.625, 7261, 106.8970588235294, 7201, 10.574127906976743, 76.59302325581395, 1.2440150478796168, 16.593023255813947, 898.625, 7181, 105.72058823529412, 7121, 0.24695121951219512, -6.024390243902439, 0.029053084648493543, -66.02439024390245, 0.7317073170731707, -2.1463414634146343, 0.0860832137733142, -62.146341463414636, 0.017229154849688032, -7.862166761202496, 0.002026959394080945, -67.8621667612025, -9.268292682926829, -82.14634146341463, -1.0903873744619799, -142.14634146341461, 139.0625, 1104.5, 16.360294117647058, 1044.5, 833.625, 6661, 98.07352941176471, 6601, 9.70203488372093, 69.61627906976744, 1.1414158686730507, 9.616279069767444, 823.625, 6581, 96.8970588235294, 6521]\n"
     ]
    },
    {
     "data": {
      "text/plain": [
       "False"
      ]
     },
     "execution_count": 52,
     "metadata": {},
     "output_type": "execute_result"
    }
   ],
   "source": [
    "def passes_test(target_values, test_values, index):\n",
    "    \n",
    "    \n",
    "    # get next number in sequence and mergre of next two numbers in sequence for test values\n",
    "    num1 = test_values[index]\n",
    "    num2 = test_values[index+1]\n",
    "\n",
    "    merge = int(str(num2) + str(num1))\n",
    "    \n",
    "    print(index)\n",
    "    print(num1, num2, merge)\n",
    "    # empty list for new set of target values\n",
    "    new_target_values = []\n",
    "    \n",
    "    # add values for dividing and subtracting the next value and merge value from each target value \n",
    "    # to new target values\n",
    "    for value in target_values:\n",
    "        \n",
    "            new_target_values.append(value/num1)\n",
    "\n",
    "            new_target_values.append(value-num1)\n",
    "            \n",
    "            new_target_values.append(value/merge)\n",
    "\n",
    "            new_target_values.append(value-merge)\n",
    "\n",
    "    print(new_target_values)\n",
    "    # if the index is at second to last number in test values\n",
    "    # divide new target values by the last value in test values and add them to value check\n",
    "    if index == len(test_values)-2:\n",
    "        \n",
    "        value_check = []\n",
    "        \n",
    "        for target in target_values:\n",
    "            \n",
    "            value_check.append(target/test_values[-1])\n",
    "\n",
    "            value_check.append(value-test_values[-1])\n",
    "            \n",
    "        # if value check contains 0 test is passd \n",
    "        # otherwise test is failed\n",
    "        \n",
    "        if 0 in new_target_values or 1 in new_target_values:\n",
    "            \n",
    "            return True\n",
    "        \n",
    "        else:\n",
    "        \n",
    "            return False\n",
    "    \n",
    "    # if the index is not at second to last number in test values \n",
    "    # remove 0 from new target values and restart process with new target values and index increased by \n",
    "\n",
    "    return passes_test(new_target_values, test_values, index + 1)\n",
    "\n",
    "target_values = 7290 \n",
    "test_values = [15, 6, 8, 6]\n",
    "\n",
    "\n",
    "\n",
    "passes_test([target_values], test_values, index)"
   ]
  },
  {
   "cell_type": "code",
   "execution_count": 67,
   "id": "upper-traveler",
   "metadata": {},
   "outputs": [
    {
     "data": {
      "text/plain": [
       "7740"
      ]
     },
     "execution_count": 67,
     "metadata": {},
     "output_type": "execute_result"
    }
   ],
   "source": [
    "(6 * 86) * 15"
   ]
  },
  {
   "cell_type": "code",
   "execution_count": 63,
   "id": "bright-craps",
   "metadata": {},
   "outputs": [
    {
     "data": {
      "text/plain": [
       "3267"
      ]
     },
     "execution_count": 63,
     "metadata": {},
     "output_type": "execute_result"
    }
   ],
   "source": [
    "(81 + 40) * 27"
   ]
  },
  {
   "cell_type": "code",
   "execution_count": 64,
   "id": "hindu-living",
   "metadata": {},
   "outputs": [
    {
     "data": {
      "text/plain": [
       "121.0"
      ]
     },
     "execution_count": 64,
     "metadata": {},
     "output_type": "execute_result"
    }
   ],
   "source": [
    "3267/27"
   ]
  },
  {
   "cell_type": "code",
   "execution_count": 65,
   "id": "accepting-florist",
   "metadata": {},
   "outputs": [
    {
     "data": {
      "text/plain": [
       "81.0"
      ]
     },
     "execution_count": 65,
     "metadata": {},
     "output_type": "execute_result"
    }
   ],
   "source": [
    "121.0-40"
   ]
  },
  {
   "cell_type": "code",
   "execution_count": 66,
   "id": "eight-reservation",
   "metadata": {},
   "outputs": [
    {
     "data": {
      "text/plain": [
       "0.0"
      ]
     },
     "execution_count": 66,
     "metadata": {},
     "output_type": "execute_result"
    }
   ],
   "source": [
    "81.0-81"
   ]
  },
  {
   "cell_type": "code",
   "execution_count": 54,
   "id": "russian-shareware",
   "metadata": {},
   "outputs": [
    {
     "data": {
      "text/plain": [
       "121.0"
      ]
     },
     "execution_count": 54,
     "metadata": {},
     "output_type": "execute_result"
    }
   ],
   "source": [
    "3267/27"
   ]
  },
  {
   "cell_type": "code",
   "execution_count": 55,
   "id": "narrative-strand",
   "metadata": {},
   "outputs": [
    {
     "data": {
      "text/plain": [
       "3240"
      ]
     },
     "execution_count": 55,
     "metadata": {},
     "output_type": "execute_result"
    }
   ],
   "source": [
    "3267-27"
   ]
  },
  {
   "cell_type": "code",
   "execution_count": 56,
   "id": "recovered-reducing",
   "metadata": {},
   "outputs": [
    {
     "data": {
      "text/plain": [
       "3.025"
      ]
     },
     "execution_count": 56,
     "metadata": {},
     "output_type": "execute_result"
    }
   ],
   "source": [
    "121/40"
   ]
  },
  {
   "cell_type": "code",
   "execution_count": 57,
   "id": "beneficial-complexity",
   "metadata": {},
   "outputs": [
    {
     "data": {
      "text/plain": [
       "81.0"
      ]
     },
     "execution_count": 57,
     "metadata": {},
     "output_type": "execute_result"
    }
   ],
   "source": [
    "3240/40"
   ]
  },
  {
   "cell_type": "code",
   "execution_count": 58,
   "id": "frozen-revision",
   "metadata": {},
   "outputs": [
    {
     "data": {
      "text/plain": [
       "3200"
      ]
     },
     "execution_count": 58,
     "metadata": {},
     "output_type": "execute_result"
    }
   ],
   "source": [
    "3240-40"
   ]
  },
  {
   "cell_type": "code",
   "execution_count": 59,
   "id": "atlantic-applicant",
   "metadata": {},
   "outputs": [
    {
     "data": {
      "text/plain": [
       "118.51851851851852"
      ]
     },
     "execution_count": 59,
     "metadata": {},
     "output_type": "execute_result"
    }
   ],
   "source": [
    "3200/27"
   ]
  },
  {
   "cell_type": "code",
   "execution_count": 60,
   "id": "activated-twins",
   "metadata": {},
   "outputs": [
    {
     "data": {
      "text/plain": [
       "3.0"
      ]
     },
     "execution_count": 60,
     "metadata": {},
     "output_type": "execute_result"
    }
   ],
   "source": [
    "81/27"
   ]
  },
  {
   "cell_type": "code",
   "execution_count": null,
   "id": "judicial-wallet",
   "metadata": {},
   "outputs": [],
   "source": [
    "7290: 6 8 6 15 can be made true using 6 * 8 || 6 * 15."
   ]
  }
 ],
 "metadata": {
  "kernelspec": {
   "display_name": "Python 3",
   "language": "python",
   "name": "python3"
  },
  "language_info": {
   "codemirror_mode": {
    "name": "ipython",
    "version": 3
   },
   "file_extension": ".py",
   "mimetype": "text/x-python",
   "name": "python",
   "nbconvert_exporter": "python",
   "pygments_lexer": "ipython3",
   "version": "3.7.4"
  }
 },
 "nbformat": 4,
 "nbformat_minor": 5
}
