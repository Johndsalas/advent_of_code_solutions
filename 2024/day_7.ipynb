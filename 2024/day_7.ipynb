{
 "cells": [
  {
   "cell_type": "markdown",
   "id": "major-reading",
   "metadata": {},
   "source": [
    "--- Day 7: Bridge Repair ---\n",
    "The Historians take you to a familiar rope bridge over a river in the middle of a jungle. The Chief isn't on this side of the bridge, though; maybe he's on the other side?\n",
    "\n",
    "When you go to cross the bridge, you notice a group of engineers trying to repair it. (Apparently, it breaks pretty frequently.) You won't be able to cross until it's fixed.\n",
    "\n",
    "You ask how long it'll take; the engineers tell you that it only needs final calibrations, but some young elephants were playing nearby and stole all the operators from their calibration equations! They could finish the calibrations if only someone could determine which test values could possibly be produced by placing any combination of operators into their calibration equations (your puzzle input).\n",
    "\n",
    "For example:\n",
    "\n",
    "190: 10 19\n",
    "3267: 81 40 27\n",
    "83: 17 5\n",
    "156: 15 6\n",
    "7290: 6 8 6 15\n",
    "161011: 16 10 13\n",
    "192: 17 8 14\n",
    "21037: 9 7 18 13\n",
    "292: 11 6 16 20\n",
    "Each line represents a single equation. The test value appears before the colon on each line; it is your job to determine whether the remaining numbers can be combined with operators to produce the test value.\n",
    "\n",
    "Operators are always evaluated left-to-right, not according to precedence rules. Furthermore, numbers in the equations cannot be rearranged. Glancing into the jungle, you can see elephants holding two different types of operators: add (+) and multiply (*).\n",
    "\n",
    "Only three of the above equations can be made true by inserting operators:\n",
    "\n",
    "190: 10 19 has only one position that accepts an operator: between 10 and 19. Choosing + would give 29, but choosing * would give the test value (10 * 19 = 190).\n",
    "3267: 81 40 27 has two positions for operators. Of the four possible configurations of the operators, two cause the right side to match the test value: 81 + 40 * 27 and 81 * 40 + 27 both equal 3267 (when evaluated left-to-right)!\n",
    "292: 11 6 16 20 can be solved in exactly one way: 11 + 6 * 16 + 20.\n",
    "The engineers just need the total calibration result, which is the sum of the test values from just the equations that could possibly be true. In the above example, the sum of the test values for the three equations listed above is 3749.\n",
    "\n",
    "Determine which equations could possibly be true. What is their total calibration result?"
   ]
  },
  {
   "cell_type": "code",
   "execution_count": 1,
   "id": "fuzzy-rabbit",
   "metadata": {},
   "outputs": [
    {
     "data": {
      "text/plain": [
       "2314935962622"
      ]
     },
     "execution_count": 1,
     "metadata": {},
     "output_type": "execute_result"
    }
   ],
   "source": [
    "def passes_test(p_li, a_li, index):\n",
    "    \n",
    "    new = []\n",
    "    \n",
    "    for num in p_li:\n",
    "        \n",
    "        new.append(num/a_li[index])\n",
    "        \n",
    "        new.append(num-a_li[index])\n",
    "        \n",
    "    if index == len(a_li)-1:\n",
    "        \n",
    "        if 0 in new:\n",
    "            \n",
    "            return True\n",
    "        \n",
    "        else:\n",
    "        \n",
    "            return False\n",
    "        \n",
    "    return passes_test(new, a_li, index+1)\n",
    "\n",
    "\n",
    "# read in input\n",
    "li = [line.strip() for line in open('d7.txt').readlines()]\n",
    "\n",
    "total = 0\n",
    "# for each line\n",
    "for nums in li:\n",
    "    \n",
    "    # seperate inout into test value and trial numbers\n",
    "    nums = nums.split(':')\n",
    "    \n",
    "    test_value = int(nums[0])\n",
    "    \n",
    "    trial_nums = nums[1][1:].split(' ')\n",
    "    \n",
    "    trial_nums = list(map(int,trial_nums))\n",
    "    \n",
    "    trial_nums.reverse()\n",
    "    \n",
    "    if passes_test([test_value], trial_nums, 0):\n",
    "        \n",
    "        total += test_value\n",
    "        \n",
    "total"
   ]
  },
  {
   "cell_type": "markdown",
   "id": "naval-interpretation",
   "metadata": {},
   "source": [
    "--- Part Two ---\n",
    "The engineers seem concerned; the total calibration result you gave them is nowhere close to being within safety tolerances. Just then, you spot your mistake: some well-hidden elephants are holding a third type of operator.\n",
    "\n",
    "The concatenation operator (||) combines the digits from its left and right inputs into a single number. For example, 12 || 345 would become 12345. All operators are still evaluated left-to-right.\n",
    "\n",
    "Now, apart from the three equations that could be made true using only addition and multiplication, the above example has three more equations that can be made true by inserting operators:\n",
    "\n",
    "156: 15 6 can be made true through a single concatenation: 15 || 6 = 156.\n",
    "7290: 6 8 6 15 can be made true using 6 * 8 || 6 * 15.\n",
    "192: 17 8 14 can be made true using 17 || 8 + 14.\n",
    "Adding up all six test values (the three that could be made before using only + and * plus the new three that can now be made by also using ||) produces the new total calibration result of 11387.\n",
    "\n",
    "Using your new knowledge of elephant hiding spots, determine which equations could possibly be true. What is their total calibration result?"
   ]
  },
  {
   "cell_type": "code",
   "execution_count": 12,
   "id": "boxed-salem",
   "metadata": {},
   "outputs": [
    {
     "data": {
      "text/plain": [
       "401477450831495"
      ]
     },
     "execution_count": 12,
     "metadata": {},
     "output_type": "execute_result"
    }
   ],
   "source": [
    "def passes_test(target, trials, progress=[], index=0):\n",
    "    \n",
    "    new_progress = []\n",
    "\n",
    "    # if index is 0 add first value in trials to new_progress\n",
    "    if index == 0:\n",
    "        \n",
    "        new_progress.append(trials[0])\n",
    "        \n",
    "        return passes_test(target, trials, new_progress, index+1)\n",
    "    \n",
    "    # if index is not 0 or equal to the length of trials\n",
    "    # add its addition, multiplication, and merge value to new_progress\n",
    "    # for each value in progress \n",
    "    elif index < len(trials):\n",
    "        \n",
    "        for value in progress:\n",
    "            \n",
    "            new_progress.append(value + trials[index])\n",
    "            new_progress.append(value * trials[index])\n",
    "            new_progress.append(int(str(value) + str(trials[index])))    \n",
    "            \n",
    "        return passes_test(target, trials, new_progress, index+1)\n",
    "    \n",
    "    # if index is grater than the length of trials\n",
    "    # return if target is in progress\n",
    "    elif index == len(trials):\n",
    "        \n",
    "        return target in progress\n",
    "\n",
    "target = 7290\n",
    "trials = [6,8,6,15]\n",
    "\n",
    "\n",
    "# read in input\n",
    "li = [line.strip() for line in open('d7.txt').readlines()]\n",
    "\n",
    "# stores sum of passing target numbers\n",
    "total = 0\n",
    "\n",
    "# for each line\n",
    "# seperate out target value from trial values\n",
    "# if the line passes the test add its target to total\n",
    "for nums in li:\n",
    "    \n",
    "    nums = nums.split(':')\n",
    "    \n",
    "    target = int(nums[0])\n",
    "\n",
    "    trials = nums[1][1:].split(' ')\n",
    "    trials = list(map(int,trials))\n",
    "\n",
    "    if passes_test(target, trials, progress=[], index=0):\n",
    "        \n",
    "        total += target\n",
    "\n",
    "total"
   ]
  }
 ],
 "metadata": {
  "kernelspec": {
   "display_name": "Python 3",
   "language": "python",
   "name": "python3"
  },
  "language_info": {
   "codemirror_mode": {
    "name": "ipython",
    "version": 3
   },
   "file_extension": ".py",
   "mimetype": "text/x-python",
   "name": "python",
   "nbconvert_exporter": "python",
   "pygments_lexer": "ipython3",
   "version": "3.7.4"
  }
 },
 "nbformat": 4,
 "nbformat_minor": 5
}
