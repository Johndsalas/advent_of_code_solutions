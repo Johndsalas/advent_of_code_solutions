{
 "cells": [
  {
   "cell_type": "markdown",
   "id": "pressed-virgin",
   "metadata": {},
   "source": [
    "--- Day 7: Bridge Repair ---\n",
    "The Historians take you to a familiar rope bridge over a river in the middle of a jungle. The Chief isn't on this side of the bridge, though; maybe he's on the other side?\n",
    "\n",
    "When you go to cross the bridge, you notice a group of engineers trying to repair it. (Apparently, it breaks pretty frequently.) You won't be able to cross until it's fixed.\n",
    "\n",
    "You ask how long it'll take; the engineers tell you that it only needs final calibrations, but some young elephants were playing nearby and stole all the operators from their calibration equations! They could finish the calibrations if only someone could determine which test values could possibly be produced by placing any combination of operators into their calibration equations (your puzzle input).\n",
    "\n",
    "For example:\n",
    "\n",
    "190: 10 19\n",
    "3267: 81 40 27\n",
    "83: 17 5\n",
    "156: 15 6\n",
    "7290: 6 8 6 15\n",
    "161011: 16 10 13\n",
    "192: 17 8 14\n",
    "21037: 9 7 18 13\n",
    "292: 11 6 16 20\n",
    "Each line represents a single equation. The test value appears before the colon on each line; it is your job to determine whether the remaining numbers can be combined with operators to produce the test value.\n",
    "\n",
    "Operators are always evaluated left-to-right, not according to precedence rules. Furthermore, numbers in the equations cannot be rearranged. Glancing into the jungle, you can see elephants holding two different types of operators: add (+) and multiply (*).\n",
    "\n",
    "Only three of the above equations can be made true by inserting operators:\n",
    "\n",
    "190: 10 19 has only one position that accepts an operator: between 10 and 19. Choosing + would give 29, but choosing * would give the test value (10 * 19 = 190).\n",
    "3267: 81 40 27 has two positions for operators. Of the four possible configurations of the operators, two cause the right side to match the test value: 81 + 40 * 27 and 81 * 40 + 27 both equal 3267 (when evaluated left-to-right)!\n",
    "292: 11 6 16 20 can be solved in exactly one way: 11 + 6 * 16 + 20.\n",
    "The engineers just need the total calibration result, which is the sum of the test values from just the equations that could possibly be true. In the above example, the sum of the test values for the three equations listed above is 3749.\n",
    "\n",
    "Determine which equations could possibly be true. What is their total calibration result?"
   ]
  },
  {
   "cell_type": "code",
   "execution_count": 4,
   "id": "crude-purchase",
   "metadata": {},
   "outputs": [
    {
     "name": "stdout",
     "output_type": "stream",
     "text": [
      "190 ['10', '19']\n",
      "3267 ['81', '40', '27']\n",
      "83 ['17', '5']\n",
      "156 ['15', '6']\n",
      "7290 ['6', '8', '6', '15']\n",
      "161011 ['16', '10', '13']\n",
      "192 ['17', '8', '14']\n",
      "21037 ['9', '7', '18', '13']\n",
      "292 ['11', '6', '16', '20']\n"
     ]
    }
   ],
   "source": [
    "li = [line.strip() for line in open('d7ex.txt').readlines()]\n",
    "\n",
    "for nums in li:\n",
    "    \n",
    "    nums = nums.split(':')\n",
    "    \n",
    "    test_value = nums[0]\n",
    "    \n",
    "    trial_nums = nums[1][1:].split(' ')\n",
    "    \n",
    "    print (test_value, trial_nums)"
   ]
  },
  {
   "cell_type": "code",
   "execution_count": null,
   "id": "lovely-combining",
   "metadata": {},
   "outputs": [],
   "source": []
  }
 ],
 "metadata": {
  "kernelspec": {
   "display_name": "Python 3",
   "language": "python",
   "name": "python3"
  },
  "language_info": {
   "codemirror_mode": {
    "name": "ipython",
    "version": 3
   },
   "file_extension": ".py",
   "mimetype": "text/x-python",
   "name": "python",
   "nbconvert_exporter": "python",
   "pygments_lexer": "ipython3",
   "version": "3.7.4"
  }
 },
 "nbformat": 4,
 "nbformat_minor": 5
}
