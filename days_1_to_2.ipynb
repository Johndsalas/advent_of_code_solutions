{
 "cells": [
  {
   "cell_type": "markdown",
   "id": "opening-establishment",
   "metadata": {},
   "source": [
    "### Day 1 \n",
    "\n",
    "Part one\n",
    "\n",
    "The jungle must be too overgrown and difficult to navigate in vehicles or access from the air; the Elves' expedition traditionally goes on foot. As your boats approach land, the Elves begin taking inventory of their supplies. One important consideration is food - in particular, the number of Calories each Elf is carrying (your puzzle input).\n",
    "\n",
    "The Elves take turns writing down the number of Calories contained by the various meals, snacks, rations, etc. that they've brought with them, one item per line. Each Elf separates their own inventory from the previous Elf's inventory (if any) by a blank line.\n",
    "\n",
    "Find the Elf carrying the most Calories. How many total Calories is that Elf carrying?"
   ]
  },
  {
   "cell_type": "code",
   "execution_count": 6,
   "id": "close-fundamental",
   "metadata": {},
   "outputs": [
    {
     "data": {
      "text/plain": [
       "66487"
      ]
     },
     "execution_count": 6,
     "metadata": {},
     "output_type": "execute_result"
    }
   ],
   "source": [
    "# Open text file\n",
    "with open('input.txt', 'r') as reader:\n",
    "    \n",
    "    #Create variables for holding calorie totals and a list of those totals\n",
    "    group_total = 0\n",
    "    \n",
    "    group_total_list = []\n",
    "    \n",
    "    # itter ate thrrough the lines of text\n",
    "    for line in reader.readlines():\n",
    "        \n",
    "        # if the line is not blank add the number to group_total\n",
    "        if line != '\\n':\n",
    "            \n",
    "            group_total += int(line.strip())\n",
    "            \n",
    "        # if it is a blank append the current total to group_total_list then set group_total to zero\n",
    "        else:\n",
    "            \n",
    "            group_total_list.append(group_total)\n",
    "            \n",
    "            group_total = 0\n",
    "            \n",
    "# get max number in group_total_list\n",
    "max(group_total_list)"
   ]
  },
  {
   "cell_type": "markdown",
   "id": "improving-sauce",
   "metadata": {},
   "source": [
    "Part Two\n",
    "\n",
    "By the time you calculate the answer to the Elves' question, they've already realized that the Elf carrying the most Calories of food might eventually run out of snacks.\n",
    "\n",
    "To avoid this unacceptable situation, the Elves would instead like to know the total Calories carried by the top three Elves carrying the most Calories. That way, even if one of those Elves runs out of snacks, they still have two backups.\n",
    "\n",
    "In the example above, the top three Elves are the fourth Elf (with 24000 Calories), then the third Elf (with 11000 Calories), then the fifth Elf (with 10000 Calories). The sum of the Calories carried by these three elves is 45000.\n",
    "\n",
    "Find the top three Elves carrying the most Calories. How many Calories are those Elves carrying in total?"
   ]
  },
  {
   "cell_type": "code",
   "execution_count": 12,
   "id": "posted-great",
   "metadata": {},
   "outputs": [
    {
     "data": {
      "text/plain": [
       "197301"
      ]
     },
     "execution_count": 12,
     "metadata": {},
     "output_type": "execute_result"
    }
   ],
   "source": [
    "# Open text file\n",
    "with open('input.txt', 'r') as reader:\n",
    "    \n",
    "    #Create variables for holding calorie totals and a list of those totals\n",
    "    group_total = 0\n",
    "    \n",
    "    group_total_list = []\n",
    "    \n",
    "    # itter ate thrrough the lines of text\n",
    "    for line in reader.readlines():\n",
    "        \n",
    "        # if the line is not blank add the number to group_total\n",
    "        if line != '\\n':\n",
    "            \n",
    "            group_total += int(line.strip())\n",
    "            \n",
    "        # if it is a blank append the current total to group_total_list then set group_total to zero\n",
    "        else:\n",
    "            \n",
    "            group_total_list.append(group_total)\n",
    "            \n",
    "            group_total = 0\n",
    "    \n",
    "    # sort list in ascending order\n",
    "    group_total_list.sort()\n",
    "    \n",
    "    # get only the top three in a list\n",
    "    top_three = group_total_list[-3:]\n",
    "    \n",
    "#get the sum of the top three\n",
    "sum(top_three)"
   ]
  },
  {
   "cell_type": "markdown",
   "id": "combined-exposure",
   "metadata": {},
   "source": [
    "## Day 2: Rock Paper Scissors\n",
    "\n",
    "The Elves begin to set up camp on the beach. To decide whose tent gets to be closest to the snack storage, a giant Rock Paper Scissors tournament is already in progress.\n",
    "\n",
    "Rock Paper Scissors is a game between two players. Each game contains many rounds; in each round, the players each simultaneously choose one of Rock, Paper, or Scissors using a hand shape. Then, a winner for that round is selected: Rock defeats Scissors, Scissors defeats Paper, and Paper defeats Rock. If both players choose the same shape, the round instead ends in a draw.\n",
    "\n",
    "Appreciative of your help yesterday, one Elf gives you an encrypted strategy guide (your puzzle input) that they say will be sure to help you win. \"The first column is what your opponent is going to play: A for Rock, B for Paper, and C for Scissors. The second column--\" Suddenly, the Elf is called away to help with someone's tent.\n",
    "\n",
    "The second column, you reason, must be what you should play in response: X for Rock, Y for Paper, and Z for Scissors. Winning every time would be suspicious, so the responses must have been carefully chosen.\n",
    "\n",
    "The winner of the whole tournament is the player with the highest score. Your total score is the sum of your scores for each round. The score for a single round is the score for the shape you selected (1 for Rock, 2 for Paper, and 3 for Scissors) plus the score for the outcome of the round (0 if you lost, 3 if the round was a draw, and 6 if you won).\n",
    "\n",
    "Since you can't be sure if the Elf is trying to help you or trick you, you should calculate the score you would get if you were to follow the strategy guide.\n",
    "\n",
    "For example, suppose you were given the following strategy guide:\n",
    "\n",
    "A Y\n",
    "B X\n",
    "C Z\n",
    "This strategy guide predicts and recommends the following:\n",
    "\n",
    "In the first round, your opponent will choose Rock (A), and you should choose Paper (Y). This ends in a win for you with a score of 8 (2 because you chose Paper + 6 because you won).\n",
    "In the second round, your opponent will choose Paper (B), and you should choose Rock (X). This ends in a loss for you with a score of 1 (1 + 0).\n",
    "The third round is a draw with both players choosing Scissors, giving you a score of 3 + 3 = 6.\n",
    "In this example, if you were to follow the strategy guide, you would get a total score of 15 (8 + 1 + 6).\n",
    "\n",
    "What would your total score be if everything goes exactly according to your strategy guide?"
   ]
  },
  {
   "cell_type": "code",
   "execution_count": 36,
   "id": "quantitative-casting",
   "metadata": {},
   "outputs": [
    {
     "data": {
      "text/plain": [
       "9651"
      ]
     },
     "execution_count": 36,
     "metadata": {},
     "output_type": "execute_result"
    }
   ],
   "source": [
    "with open('day2_1.txt', 'r') as reader:\n",
    "    \n",
    "    score = 0\n",
    "\n",
    "    lines = [line.rstrip() for line in reader.readlines()]\n",
    "    \n",
    "    for line in lines:\n",
    "        \n",
    "        me = line[-1]\n",
    "\n",
    "        them = line[0]\n",
    "\n",
    "        if me == \"X\":\n",
    "\n",
    "            score += 1\n",
    "\n",
    "            if them == \"A\":\n",
    "\n",
    "                score += 3\n",
    "\n",
    "            if them == \"B\":\n",
    "\n",
    "                score += 0\n",
    "\n",
    "            if them == \"C\":\n",
    "\n",
    "                score += 6\n",
    "\n",
    "        elif me == \"Y\":\n",
    "\n",
    "            score += 2\n",
    "\n",
    "            if them == \"A\":\n",
    "\n",
    "                score += 6\n",
    "\n",
    "            if them == \"B\":\n",
    "\n",
    "                score += 3\n",
    "\n",
    "            if them == \"C\":\n",
    "\n",
    "                score += 0\n",
    "\n",
    "        elif me == \"Z\":\n",
    "\n",
    "            score += 3\n",
    "\n",
    "            if them == \"A\":\n",
    "\n",
    "                score += 0\n",
    "\n",
    "            if them == \"B\":\n",
    "\n",
    "                score += 6\n",
    "\n",
    "            if them == \"C\":\n",
    "\n",
    "                score += 3\n",
    "\n",
    "score"
   ]
  },
  {
   "cell_type": "markdown",
   "id": "structural-scottish",
   "metadata": {},
   "source": [
    "Part Two\n",
    "\n",
    "The Elf finishes helping with the tent and sneaks back over to you. \"Anyway, the second column says how the round needs to end: X means you need to lose, Y means you need to end the round in a draw, and Z means you need to win. Good luck!\"\n",
    "\n",
    "The total score is still calculated in the same way, but now you need to figure out what shape to choose so the round ends as indicated. The example above now goes like this:\n",
    "\n",
    "In the first round, your opponent will choose Rock (A), and you need the round to end in a draw (Y), so you also choose Rock. This gives you a score of 1 + 3 = 4.\n",
    "In the second round, your opponent will choose Paper (B), and you choose Rock so you lose (X) with a score of 1 + 0 = 1.\n",
    "In the third round, you will defeat your opponent's Scissors with Rock for a score of 1 + 6 = 7.\n",
    "Now that you're correctly decrypting the ultra top secret strategy guide, you would get a total score of 12.\n",
    "\n",
    "Following the Elf's instructions for the second column, what would your total score be if everything goes exactly according to your strategy guide?"
   ]
  },
  {
   "cell_type": "code",
   "execution_count": null,
   "id": "exceptional-substitute",
   "metadata": {},
   "outputs": [],
   "source": []
  }
 ],
 "metadata": {
  "kernelspec": {
   "display_name": "Python 3",
   "language": "python",
   "name": "python3"
  },
  "language_info": {
   "codemirror_mode": {
    "name": "ipython",
    "version": 3
   },
   "file_extension": ".py",
   "mimetype": "text/x-python",
   "name": "python",
   "nbconvert_exporter": "python",
   "pygments_lexer": "ipython3",
   "version": "3.7.4"
  }
 },
 "nbformat": 4,
 "nbformat_minor": 5
}
