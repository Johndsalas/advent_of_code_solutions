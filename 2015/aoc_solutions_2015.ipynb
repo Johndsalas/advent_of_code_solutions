{
 "cells": [
  {
   "cell_type": "markdown",
   "id": "selected-beijing",
   "metadata": {},
   "source": [
    "--- Day 1: Not Quite Lisp ---\n",
    "Santa was hoping for a white Christmas, but his weather machine's \"snow\" function is powered by stars, and he's fresh out! To save Christmas, he needs you to collect fifty stars by December 25th.\n",
    "\n",
    "Collect stars by helping Santa solve puzzles. Two puzzles will be made available on each day in the Advent calendar; the second puzzle is unlocked when you complete the first. Each puzzle grants one star. Good luck!\n",
    "\n",
    "Here's an easy puzzle to warm you up.\n",
    "\n",
    "Santa is trying to deliver presents in a large apartment building, but he can't find the right floor - the directions he got are a little confusing. He starts on the ground floor (floor 0) and then follows the instructions one character at a time.\n",
    "\n",
    "An opening parenthesis, (, means he should go up one floor, and a closing parenthesis, ), means he should go down one floor.\n",
    "\n",
    "The apartment building is very tall, and the basement is very deep; he will never find the top or bottom floors.\n",
    "\n",
    "For example:\n",
    "\n",
    "(()) and ()() both result in floor 0.\n",
    "((( and (()(()( both result in floor 3.\n",
    "))((((( also results in floor 3.\n",
    "()) and ))( both result in floor -1 (the first basement level).\n",
    "))) and )())()) both result in floor -3.\n",
    "To what floor do the instructions take Santa?"
   ]
  },
  {
   "cell_type": "code",
   "execution_count": 6,
   "id": "active-wrapping",
   "metadata": {},
   "outputs": [
    {
     "data": {
      "text/plain": [
       "280"
      ]
     },
     "execution_count": 6,
     "metadata": {},
     "output_type": "execute_result"
    }
   ],
   "source": [
    "# open txt file and get text as sting\n",
    "text = open('input2015_1.txt', 'r').read()\n",
    "\n",
    "# subtract count of ) from count of (\n",
    "text.count('(') - text.count(')')"
   ]
  },
  {
   "cell_type": "markdown",
   "id": "literary-booking",
   "metadata": {},
   "source": [
    "--- Part Two ---\n",
    "Now, given the same instructions, find the position of the first character that causes him to enter the basement (floor -1). The first character in the instructions has position 1, the second character has position 2, and so on.\n",
    "\n",
    "For example:\n",
    "\n",
    ") causes him to enter the basement at character position 1.\n",
    "()()) causes him to enter the basement at character position 5.\n",
    "What is the position of the character that causes Santa to first enter the basement?"
   ]
  },
  {
   "cell_type": "code",
   "execution_count": 16,
   "id": "expensive-yukon",
   "metadata": {},
   "outputs": [
    {
     "name": "stdout",
     "output_type": "stream",
     "text": [
      "1797\n"
     ]
    }
   ],
   "source": [
    "# set starting floor and empty step_list\n",
    "floor = 0\n",
    "\n",
    "step_list = []\n",
    "\n",
    "# get input text\n",
    "text = open('input2015_1.txt', 'r').read()\n",
    "\n",
    "# for each input adjust floor value and append to step_list\n",
    "# when floor value is -1 print length of step_list\n",
    "for item in text:\n",
    "    \n",
    "    if item == '(':\n",
    "        \n",
    "        floor += 1\n",
    "        \n",
    "        step_list.append(item)\n",
    "        \n",
    "    elif item == ')':\n",
    "        \n",
    "        floor -= 1\n",
    "        \n",
    "        step_list.append(item)\n",
    "        \n",
    "        if floor == -1:\n",
    "            \n",
    "            print(len(step_list))\n",
    "            \n",
    "            break"
   ]
  },
  {
   "cell_type": "markdown",
   "id": "running-fossil",
   "metadata": {},
   "source": [
    "--- Day 2: I Was Told There Would Be No Math ---\n",
    "The elves are running low on wrapping paper, and so they need to submit an order for more. They have a list of the dimensions (length l, width w, and height h) of each present, and only want to order exactly as much as they need.\n",
    "\n",
    "Fortunately, every present is a box (a perfect right rectangular prism), which makes calculating the required wrapping paper for each gift a little easier: find the surface area of the box, which is 2*l*w + 2*w*h + 2*h*l. The elves also need a little extra paper for each present: the area of the smallest side.\n",
    "\n",
    "For example:\n",
    "\n",
    "A present with dimensions 2x3x4 requires 2*6 + 2*12 + 2*8 = 52 square feet of wrapping paper plus 6 square feet of slack, for a total of 58 square feet.\n",
    "A present with dimensions 1x1x10 requires 2*1 + 2*10 + 2*10 = 42 square feet of wrapping paper plus 1 square foot of slack, for a total of 43 square feet.\n",
    "All numbers in the elves' list are in feet. How many total square feet of wrapping paper should they order?"
   ]
  },
  {
   "cell_type": "code",
   "execution_count": 47,
   "id": "behavioral-owner",
   "metadata": {},
   "outputs": [
    {
     "data": {
      "text/plain": [
       "1588178"
      ]
     },
     "execution_count": 47,
     "metadata": {},
     "output_type": "execute_result"
    }
   ],
   "source": [
    "import regex as re\n",
    "\n",
    "total = 0\n",
    "\n",
    "measures = open('input2015_2.txt', 'r').readlines()\n",
    "\n",
    "for measure in measures:\n",
    "    \n",
    "    measure = re.search('\\d+x\\d+x\\d+', measure)[0]\n",
    "    \n",
    "    measure = measure.split('x')\n",
    "    \n",
    "    l = int(measure[0])\n",
    "    w = int(measure[1])\n",
    "    h = int(measure[2])\n",
    "    \n",
    "    area = 2*l*w + 2*w*h + 2*h*l + min([l*w, l*h, h*w])\n",
    "    \n",
    "    total += area\n",
    "\n",
    "total    "
   ]
  },
  {
   "cell_type": "markdown",
   "id": "legendary-capability",
   "metadata": {},
   "source": [
    "--- Part Two ---\n",
    "The elves are also running low on ribbon. Ribbon is all the same width, so they only have to worry about the length they need to order, which they would again like to be exact.\n",
    "\n",
    "The ribbon required to wrap a present is the shortest distance around its sides, or the smallest perimeter of any one face. Each present also requires a bow made out of ribbon as well; the feet of ribbon required for the perfect bow is equal to the cubic feet of volume of the present. Don't ask how they tie the bow, though; they'll never tell.\n",
    "\n",
    "For example:\n",
    "\n",
    "A present with dimensions 2x3x4 requires 2+2+3+3 = 10 feet of ribbon to wrap the present plus 2*3*4 = 24 feet of ribbon for the bow, for a total of 34 feet.\n",
    "A present with dimensions 1x1x10 requires 1+1+1+1 = 4 feet of ribbon to wrap the present plus 1*1*10 = 10 feet of ribbon for the bow, for a total of 14 feet.\n",
    "How many total feet of ribbon should they order?"
   ]
  },
  {
   "cell_type": "code",
   "execution_count": null,
   "id": "latter-baptist",
   "metadata": {},
   "outputs": [],
   "source": []
  }
 ],
 "metadata": {
  "kernelspec": {
   "display_name": "Python 3",
   "language": "python",
   "name": "python3"
  },
  "language_info": {
   "codemirror_mode": {
    "name": "ipython",
    "version": 3
   },
   "file_extension": ".py",
   "mimetype": "text/x-python",
   "name": "python",
   "nbconvert_exporter": "python",
   "pygments_lexer": "ipython3",
   "version": "3.7.4"
  }
 },
 "nbformat": 4,
 "nbformat_minor": 5
}
