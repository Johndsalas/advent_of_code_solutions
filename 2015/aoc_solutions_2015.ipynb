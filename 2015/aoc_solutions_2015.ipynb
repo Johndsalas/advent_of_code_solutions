{
 "cells": [
  {
   "cell_type": "markdown",
   "id": "selected-beijing",
   "metadata": {},
   "source": [
    "--- Day 1: Not Quite Lisp ---\n",
    "Santa was hoping for a white Christmas, but his weather machine's \"snow\" function is powered by stars, and he's fresh out! To save Christmas, he needs you to collect fifty stars by December 25th.\n",
    "\n",
    "Collect stars by helping Santa solve puzzles. Two puzzles will be made available on each day in the Advent calendar; the second puzzle is unlocked when you complete the first. Each puzzle grants one star. Good luck!\n",
    "\n",
    "Here's an easy puzzle to warm you up.\n",
    "\n",
    "Santa is trying to deliver presents in a large apartment building, but he can't find the right floor - the directions he got are a little confusing. He starts on the ground floor (floor 0) and then follows the instructions one character at a time.\n",
    "\n",
    "An opening parenthesis, (, means he should go up one floor, and a closing parenthesis, ), means he should go down one floor.\n",
    "\n",
    "The apartment building is very tall, and the basement is very deep; he will never find the top or bottom floors.\n",
    "\n",
    "For example:\n",
    "\n",
    "(()) and ()() both result in floor 0.\n",
    "((( and (()(()( both result in floor 3.\n",
    "))((((( also results in floor 3.\n",
    "()) and ))( both result in floor -1 (the first basement level).\n",
    "))) and )())()) both result in floor -3.\n",
    "To what floor do the instructions take Santa?"
   ]
  },
  {
   "cell_type": "code",
   "execution_count": 1,
   "id": "active-wrapping",
   "metadata": {},
   "outputs": [
    {
     "data": {
      "text/plain": [
       "280"
      ]
     },
     "execution_count": 1,
     "metadata": {},
     "output_type": "execute_result"
    }
   ],
   "source": [
    "# open txt file and get text as sting\n",
    "text = open('input2015_1.txt', 'r').read()\n",
    "\n",
    "# subtract count of ) from count of (\n",
    "text.count('(') - text.count(')')"
   ]
  },
  {
   "cell_type": "markdown",
   "id": "literary-booking",
   "metadata": {},
   "source": [
    "--- Part Two ---\n",
    "Now, given the same instructions, find the position of the first character that causes him to enter the basement (floor -1). The first character in the instructions has position 1, the second character has position 2, and so on.\n",
    "\n",
    "For example:\n",
    "\n",
    ") causes him to enter the basement at character position 1.\n",
    "()()) causes him to enter the basement at character position 5.\n",
    "What is the position of the character that causes Santa to first enter the basement?"
   ]
  },
  {
   "cell_type": "code",
   "execution_count": 2,
   "id": "expensive-yukon",
   "metadata": {},
   "outputs": [
    {
     "name": "stdout",
     "output_type": "stream",
     "text": [
      "1797\n"
     ]
    }
   ],
   "source": [
    "# set starting floor and empty step_list\n",
    "floor = 0\n",
    "\n",
    "step_list = []\n",
    "\n",
    "# get input text\n",
    "text = open('input2015_1.txt', 'r').read()\n",
    "\n",
    "# for each input adjust floor value and append to step_list\n",
    "# when floor value is -1 print length of step_list\n",
    "for item in text:\n",
    "    \n",
    "    if item == '(':\n",
    "        \n",
    "        floor += 1\n",
    "        \n",
    "        step_list.append(item)\n",
    "        \n",
    "    elif item == ')':\n",
    "        \n",
    "        floor -= 1\n",
    "        \n",
    "        step_list.append(item)\n",
    "        \n",
    "        if floor == -1:\n",
    "            \n",
    "            print(len(step_list))\n",
    "            \n",
    "            break"
   ]
  },
  {
   "cell_type": "markdown",
   "id": "running-fossil",
   "metadata": {},
   "source": [
    "--- Day 2: I Was Told There Would Be No Math ---\n",
    "The elves are running low on wrapping paper, and so they need to submit an order for more. They have a list of the dimensions (length l, width w, and height h) of each present, and only want to order exactly as much as they need.\n",
    "\n",
    "Fortunately, every present is a box (a perfect right rectangular prism), which makes calculating the required wrapping paper for each gift a little easier: find the surface area of the box, which is 2*l*w + 2*w*h + 2*h*l. The elves also need a little extra paper for each present: the area of the smallest side.\n",
    "\n",
    "For example:\n",
    "\n",
    "A present with dimensions 2x3x4 requires 2*6 + 2*12 + 2*8 = 52 square feet of wrapping paper plus 6 square feet of slack, for a total of 58 square feet.\n",
    "A present with dimensions 1x1x10 requires 2*1 + 2*10 + 2*10 = 42 square feet of wrapping paper plus 1 square foot of slack, for a total of 43 square feet.\n",
    "All numbers in the elves' list are in feet. How many total square feet of wrapping paper should they order?"
   ]
  },
  {
   "cell_type": "code",
   "execution_count": 3,
   "id": "behavioral-owner",
   "metadata": {},
   "outputs": [
    {
     "data": {
      "text/plain": [
       "1588178"
      ]
     },
     "execution_count": 3,
     "metadata": {},
     "output_type": "execute_result"
    }
   ],
   "source": [
    "import regex as re\n",
    "\n",
    "total = 0\n",
    "\n",
    "measures = open('input2015_2.txt', 'r').readlines()\n",
    "\n",
    "for measure in measures:\n",
    "    \n",
    "    measure = re.search('\\d+x\\d+x\\d+', measure)[0]\n",
    "    \n",
    "    measure = measure.split('x')\n",
    "    \n",
    "    l = int(measure[0])\n",
    "    w = int(measure[1])\n",
    "    h = int(measure[2])\n",
    "    \n",
    "    area = 2*l*w + 2*w*h + 2*h*l + min([l*w, l*h, h*w])\n",
    "    \n",
    "    total += area\n",
    "\n",
    "total    "
   ]
  },
  {
   "cell_type": "markdown",
   "id": "legendary-capability",
   "metadata": {},
   "source": [
    "--- Part Two ---\n",
    "The elves are also running low on ribbon. Ribbon is all the same width, so they only have to worry about the length they need to order, which they would again like to be exact.\n",
    "\n",
    "The ribbon required to wrap a present is the shortest distance around its sides, or the smallest perimeter of any one face. Each present also requires a bow made out of ribbon as well; the feet of ribbon required for the perfect bow is equal to the cubic feet of volume of the present. Don't ask how they tie the bow, though; they'll never tell.\n",
    "\n",
    "For example:\n",
    "\n",
    "A present with dimensions 2x3x4 requires 2+2+3+3 = 10 feet of ribbon to wrap the present plus 2*3*4 = 24 feet of ribbon for the bow, for a total of 34 feet.\n",
    "A present with dimensions 1x1x10 requires 1+1+1+1 = 4 feet of ribbon to wrap the present plus 1*1*10 = 10 feet of ribbon for the bow, for a total of 14 feet.\n",
    "How many total feet of ribbon should they order?"
   ]
  },
  {
   "cell_type": "code",
   "execution_count": 9,
   "id": "latter-baptist",
   "metadata": {},
   "outputs": [
    {
     "data": {
      "text/plain": [
       "3783758"
      ]
     },
     "execution_count": 9,
     "metadata": {},
     "output_type": "execute_result"
    }
   ],
   "source": [
    "import regex as re\n",
    "\n",
    "total = 0\n",
    "\n",
    "measures = open('input2015_2.txt', 'r').readlines()\n",
    "\n",
    "for measure in measures:\n",
    "    \n",
    "    measure = re.search('\\d+x\\d+x\\d+', measure)[0]\n",
    "    \n",
    "    measure = measure.split('x')\n",
    "    \n",
    "    l = int(measure[0])\n",
    "    w = int(measure[1])\n",
    "    h = int(measure[2])\n",
    "    \n",
    "    bow = l * w * h\n",
    "    \n",
    "    sides = [l,w,h]\n",
    "    max_side = max(sides)\n",
    "    sides.remove(max_side)\n",
    "    small_per = sides[0]*2 + sides[1]*2\n",
    "\n",
    "    total += (bow + small_per)\n",
    "    \n",
    "total"
   ]
  },
  {
   "cell_type": "markdown",
   "id": "rapid-innocent",
   "metadata": {},
   "source": [
    "--- Day 3: Perfectly Spherical Houses in a Vacuum ---\n",
    "Santa is delivering presents to an infinite two-dimensional grid of houses.\n",
    "\n",
    "He begins by delivering a present to the house at his starting location, and then an elf at the North Pole calls him via radio and tells him where to move next. Moves are always exactly one house to the north (^), south (v), east (>), or west (<). After each move, he delivers another present to the house at his new location.\n",
    "\n",
    "However, the elf back at the north pole has had a little too much eggnog, and so his directions are a little off, and Santa ends up visiting some houses more than once. How many houses receive at least one present?\n",
    "\n",
    "For example:\n",
    "\n",
    "> delivers presents to 2 houses: one at the starting location, and one to the east.\n",
    "^>v< delivers presents to 4 houses in a square, including twice to the house at his starting/ending location.\n",
    "^v^v^v^v^v delivers a bunch of presents to some very lucky children at only 2 houses."
   ]
  },
  {
   "cell_type": "code",
   "execution_count": 29,
   "id": "serious-bottle",
   "metadata": {},
   "outputs": [
    {
     "data": {
      "text/plain": [
       "2592"
      ]
     },
     "execution_count": 29,
     "metadata": {},
     "output_type": "execute_result"
    }
   ],
   "source": [
    "# get rout, set coordinates to 0, and container for visited coordanites\n",
    "moves = open('input2015_3.txt', 'r').read()\n",
    "\n",
    "x = 0\n",
    "y = 0\n",
    "\n",
    "visited = []\n",
    "\n",
    "# begin santa's automation\n",
    "for move in moves:\n",
    "    \n",
    "    co = (x,y)\n",
    "    \n",
    "    # deliver present and check for unique coordinants\n",
    "    if co not in visited:\n",
    "        \n",
    "        visited.append(co)\n",
    "    \n",
    "    # move santa\n",
    "    if move == '>': x += 1\n",
    "    elif move == '<': x -= 1   \n",
    "    elif move == '^': y += 1\n",
    "    elif move == 'v': y -= 1\n",
    "        \n",
    "# get number of unique visits\n",
    "\n",
    "len(visited)"
   ]
  },
  {
   "cell_type": "markdown",
   "id": "searching-million",
   "metadata": {},
   "source": [
    "--- Part Two ---\n",
    "The next year, to speed up the process, Santa creates a robot version of himself, Robo-Santa, to deliver presents with him.\n",
    "\n",
    "Santa and Robo-Santa start at the same location (delivering two presents to the same starting house), then take turns moving based on instructions from the elf, who is eggnoggedly reading from the same script as the previous year.\n",
    "\n",
    "This year, how many houses receive at least one present?\n",
    "\n",
    "For example:\n",
    "\n",
    "^v delivers presents to 3 houses, because Santa goes north, and then Robo-Santa goes south.\n",
    "^>v< now delivers presents to 3 houses, and Santa and Robo-Santa end up back where they started.\n",
    "^v^v^v^v^v now delivers presents to 11 houses, with Santa going one direction and Robo-Santa going the other."
   ]
  },
  {
   "cell_type": "code",
   "execution_count": 2,
   "id": "driving-plane",
   "metadata": {},
   "outputs": [
    {
     "data": {
      "text/plain": [
       "2360"
      ]
     },
     "execution_count": 2,
     "metadata": {},
     "output_type": "execute_result"
    }
   ],
   "source": [
    "def get_unique_cos(moves):\n",
    "    \n",
    "    x = 0\n",
    "    y = 0\n",
    "\n",
    "    visited = []\n",
    "\n",
    "    # begin santa's automation\n",
    "    for move in moves:\n",
    "\n",
    "        co = (x,y)\n",
    "\n",
    "        # deliver present and check for unique coordinants\n",
    "        if co not in visited:\n",
    "\n",
    "            visited.append(co)\n",
    "\n",
    "        # move santa\n",
    "        if move == '>': x += 1\n",
    "        elif move == '<': x -= 1   \n",
    "        elif move == '^': y += 1\n",
    "        elif move == 'v': y -= 1\n",
    "\n",
    "    # get number of unique visits\n",
    "\n",
    "    return visited\n",
    "\n",
    "\n",
    "# get moves\n",
    "moves = open('input2015_3.txt', 'r').read()\n",
    "\n",
    "# seperate into santa and bot moves\n",
    "santa_moves = [moves[r] for r in range(len(moves)) if r % 2 == 1]\n",
    "robot_moves = [moves[r]  for r in range(len(moves)) if r % 2 == 0]\n",
    "\n",
    "# get full list of coordinants\n",
    "santa_cos = get_unique_cos(santa_moves)\n",
    "robot_cos = get_unique_cos(robot_moves)\n",
    "\n",
    "santa_cos.extend(robot_cos)\n",
    "\n",
    "# number of unique visists\n",
    "len(set(santa_cos))"
   ]
  },
  {
   "cell_type": "markdown",
   "id": "exact-judge",
   "metadata": {},
   "source": [
    "--- Day 4: The Ideal Stocking Stuffer ---\n",
    "Santa needs help mining some AdventCoins (very similar to bitcoins) to use as gifts for all the economically forward-thinking little girls and boys.\n",
    "\n",
    "To do this, he needs to find MD5 hashes which, in hexadecimal, start with at least five zeroes. The input to the MD5 hash is some secret key (your puzzle input, given below) followed by a number in decimal. To mine AdventCoins, you must find Santa the lowest positive number (no leading zeroes: 1, 2, 3, ...) that produces such a hash.\n",
    "\n",
    "For example:\n",
    "\n",
    "If your secret key is abcdef, the answer is 609043, because the MD5 hash of abcdef609043 starts with five zeroes (000001dbbfa...), and it is the lowest such number to do so.\n",
    "If your secret key is pqrstuv, the lowest number it combines with to make an MD5 hash starting with five zeroes is 1048970; that is, the MD5 hash of pqrstuv1048970 looks like 000006136ef...."
   ]
  },
  {
   "cell_type": "code",
   "execution_count": 21,
   "id": "present-afternoon",
   "metadata": {},
   "outputs": [
    {
     "name": "stdout",
     "output_type": "stream",
     "text": [
      "ckczppom 117946 00000fe1c139a2c710e9a5c03ec1af03\n"
     ]
    }
   ],
   "source": [
    "import hashlib\n",
    "\n",
    "key = 'ckczppom'\n",
    "\n",
    "gate = 0\n",
    "\n",
    "while True:\n",
    "\n",
    "    key_in_gate = key + str(gate)\n",
    "\n",
    "    result = hashlib.md5(key_in_gate.encode('utf-8')).hexdigest()\n",
    "    \n",
    "    first_five = result[0:5]\n",
    "    \n",
    "    if first_five == '00000':\n",
    "        \n",
    "        break\n",
    "        \n",
    "    gate += 1\n",
    "              \n",
    "print(key, gate, result)"
   ]
  },
  {
   "cell_type": "code",
   "execution_count": null,
   "id": "anticipated-amino",
   "metadata": {},
   "outputs": [],
   "source": []
  },
  {
   "cell_type": "code",
   "execution_count": null,
   "id": "boolean-helicopter",
   "metadata": {},
   "outputs": [],
   "source": []
  },
  {
   "cell_type": "code",
   "execution_count": null,
   "id": "delayed-lease",
   "metadata": {},
   "outputs": [],
   "source": []
  },
  {
   "cell_type": "code",
   "execution_count": null,
   "id": "painted-catering",
   "metadata": {},
   "outputs": [],
   "source": []
  },
  {
   "cell_type": "code",
   "execution_count": null,
   "id": "dutch-bruce",
   "metadata": {},
   "outputs": [],
   "source": []
  },
  {
   "cell_type": "code",
   "execution_count": null,
   "id": "another-wales",
   "metadata": {},
   "outputs": [],
   "source": []
  },
  {
   "cell_type": "code",
   "execution_count": null,
   "id": "cloudy-equipment",
   "metadata": {},
   "outputs": [],
   "source": []
  },
  {
   "cell_type": "code",
   "execution_count": null,
   "id": "muslim-pillow",
   "metadata": {},
   "outputs": [],
   "source": []
  },
  {
   "cell_type": "code",
   "execution_count": null,
   "id": "complex-diamond",
   "metadata": {},
   "outputs": [],
   "source": []
  },
  {
   "cell_type": "code",
   "execution_count": null,
   "id": "southeast-disposition",
   "metadata": {},
   "outputs": [],
   "source": []
  },
  {
   "cell_type": "code",
   "execution_count": null,
   "id": "structured-maple",
   "metadata": {},
   "outputs": [],
   "source": []
  },
  {
   "cell_type": "code",
   "execution_count": null,
   "id": "hidden-caution",
   "metadata": {},
   "outputs": [],
   "source": []
  },
  {
   "cell_type": "code",
   "execution_count": null,
   "id": "legendary-hamburg",
   "metadata": {},
   "outputs": [],
   "source": []
  }
 ],
 "metadata": {
  "kernelspec": {
   "display_name": "Python 3",
   "language": "python",
   "name": "python3"
  },
  "language_info": {
   "codemirror_mode": {
    "name": "ipython",
    "version": 3
   },
   "file_extension": ".py",
   "mimetype": "text/x-python",
   "name": "python",
   "nbconvert_exporter": "python",
   "pygments_lexer": "ipython3",
   "version": "3.7.4"
  }
 },
 "nbformat": 4,
 "nbformat_minor": 5
}
