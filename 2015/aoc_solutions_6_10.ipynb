{
 "cells": [
  {
   "cell_type": "markdown",
   "id": "legal-quebec",
   "metadata": {},
   "source": [
    "--- Day 6: Probably a Fire Hazard ---\n",
    "Because your neighbors keep defeating you in the holiday house decorating contest year after year, you've decided to deploy one million lights in a 1000x1000 grid.\n",
    "\n",
    "Furthermore, because you've been especially nice this year, Santa has mailed you instructions on how to display the ideal lighting configuration.\n",
    "\n",
    "Lights in your grid are numbered from 0 to 999 in each direction; the lights at each corner are at 0,0, 0,999, 999,999, and 999,0. The instructions include whether to turn on, turn off, or toggle various inclusive ranges given as coordinate pairs. Each coordinate pair represents opposite corners of a rectangle, inclusive; a coordinate pair like 0,0 through 2,2 therefore refers to 9 lights in a 3x3 square. The lights all start turned off.\n",
    "\n",
    "To defeat your neighbors this year, all you have to do is set up your lights by doing the instructions Santa sent you in order.\n",
    "\n",
    "For example:\n",
    "\n",
    "turn on 0,0 through 999,999 would turn on (or leave on) every light.\n",
    "toggle 0,0 through 999,0 would toggle the first line of 1000 lights, turning off the ones that were on, and turning on the ones that were off.\n",
    "turn off 499,499 through 500,500 would turn off (or leave off) the middle four lights.\n",
    "After following the instructions, how many lights are lit?"
   ]
  },
  {
   "cell_type": "code",
   "execution_count": 1,
   "id": "split-instruction",
   "metadata": {},
   "outputs": [
    {
     "name": "stdout",
     "output_type": "stream",
     "text": [
      "[[1 2 3]\n",
      " [4 5 6]]\n"
     ]
    }
   ],
   "source": [
    "import numpy as np\n",
    "\n",
    "arr = np.array([[1, 2, 3], [4, 5, 6]])\n",
    "\n",
    "print(arr)"
   ]
  },
  {
   "cell_type": "code",
   "execution_count": 2,
   "id": "perceived-reservoir",
   "metadata": {},
   "outputs": [
    {
     "name": "stdout",
     "output_type": "stream",
     "text": [
      "[[0 0 0 0 0 0 0 0 0 0]\n",
      " [0 0 0 0 0 0 0 0 0 0]\n",
      " [0 0 0 0 0 0 0 0 0 0]\n",
      " [0 0 0 0 0 0 0 0 0 0]\n",
      " [0 0 0 0 0 0 0 0 0 0]\n",
      " [0 0 0 0 0 0 0 0 0 0]\n",
      " [0 0 0 0 0 0 0 0 0 0]\n",
      " [0 0 0 0 0 0 0 0 0 0]\n",
      " [0 0 0 0 0 0 0 0 0 0]\n",
      " [0 0 0 0 0 0 0 0 0 0]]\n"
     ]
    }
   ],
   "source": [
    "row = [0 for r in range(10)]\n",
    "arr = np.array([row for r in range(10)])\n",
    "print(arr)"
   ]
  },
  {
   "cell_type": "code",
   "execution_count": 3,
   "id": "later-italian",
   "metadata": {},
   "outputs": [
    {
     "name": "stdout",
     "output_type": "stream",
     "text": [
      "[2, 3, 4, 5, 6, 7] [3, 4, 5, 6]\n"
     ]
    }
   ],
   "source": [
    "row = [0 for r in range(10)]\n",
    "arr = np.array([row for r in range(10)])\n",
    "\n",
    "# get start and end point (down,right)\n",
    "s_point = (2,3)\n",
    "e_point = (7,6)\n",
    "\n",
    "# get start and end row and start and end column\n",
    "s_row = s_point[0]\n",
    "e_row = e_point[0]\n",
    "\n",
    "s_col = s_point[1]\n",
    "e_col = e_point[1]\n",
    "\n",
    "# get rows and columns effected\n",
    "rows = [s_row + r for r in range(0, e_row-s_row+1)]\n",
    "cols = [s_col + r for r in range(0, e_col-s_col+1)]\n",
    "\n",
    "print(rows, cols)\n",
    "\n",
    "for row in rows:\n",
    "    for col in cols:\n",
    "\n",
    "        arr[row][col] = 1\n",
    "        "
   ]
  },
  {
   "cell_type": "code",
   "execution_count": 4,
   "id": "altered-magic",
   "metadata": {},
   "outputs": [
    {
     "data": {
      "text/plain": [
       "array([[0, 0, 0, 0, 0, 0, 0, 0, 0, 0],\n",
       "       [0, 0, 0, 0, 0, 0, 0, 0, 0, 0],\n",
       "       [0, 0, 0, 1, 1, 1, 1, 0, 0, 0],\n",
       "       [0, 0, 0, 1, 1, 1, 1, 0, 0, 0],\n",
       "       [0, 0, 0, 1, 1, 1, 1, 0, 0, 0],\n",
       "       [0, 0, 0, 1, 1, 1, 1, 0, 0, 0],\n",
       "       [0, 0, 0, 1, 1, 1, 1, 0, 0, 0],\n",
       "       [0, 0, 0, 1, 1, 1, 1, 0, 0, 0],\n",
       "       [0, 0, 0, 0, 0, 0, 0, 0, 0, 0],\n",
       "       [0, 0, 0, 0, 0, 0, 0, 0, 0, 0]])"
      ]
     },
     "execution_count": 4,
     "metadata": {},
     "output_type": "execute_result"
    }
   ],
   "source": [
    "arr"
   ]
  },
  {
   "cell_type": "code",
   "execution_count": null,
   "id": "usual-position",
   "metadata": {},
   "outputs": [],
   "source": [
    "import regex as re\n",
    "\n",
    "# get 100,000 by 100,000 array\n",
    "\n",
    "row = [0 for r in range(100_000)]\n",
    "arr = np.array([row for r in range(100_000)])\n",
    "\n",
    "strings = [line.strip() for line in open('input2015_6.txt').readlines()]\n",
    "\n",
    "for string in strings:\n",
    "    \n",
    "    command = re.search(r'toggle|off|on',string)\n",
    "    \n",
    "    points = re.findall('\\d+,\\d+', string)\n",
    "    \n",
    "    s_point = points[0].split(',')\n",
    "    \n",
    "    e_point = points[1].split(',')\n",
    "    \n",
    "    # get start and end row and start and end column\n",
    "    s_row = int(s_point[0])\n",
    "    e_row = int(e_point[0])\n",
    "\n",
    "    s_col = int(s_point[1])\n",
    "    e_col = int(e_point[1])\n",
    "    \n",
    "    # get rows and columns effected\n",
    "    rows = [s_row + r for r in range(0, e_row-s_row+1)]\n",
    "    cols = [s_col + r for r in range(0, e_col-s_col+1)]\n",
    "    \n",
    "    if command == 'off':\n",
    "        \n",
    "        for row in rows:\n",
    "            for column in columns:\n",
    "            \n",
    "                arr[row][col] = 0\n",
    "                \n",
    "    elif command == 'on':\n",
    "        \n",
    "        for row in rows:\n",
    "            for column in columns:\n",
    "            \n",
    "                arr[row][col] = 1\n",
    "                \n",
    "    elif command == 'toggle':\n",
    "        \n",
    "        for row in rows:\n",
    "            for column in columns:\n",
    "            \n",
    "                if arr[row][col] == 1:\n",
    "                    \n",
    "                    arr[row][col] = 0\n",
    "                    \n",
    "                if arr[row][col] == 0:\n",
    "                    \n",
    "                    arr[row][col] = 1\n",
    "sum(sum(arr))"
   ]
  },
  {
   "cell_type": "code",
   "execution_count": null,
   "id": "animated-combine",
   "metadata": {},
   "outputs": [],
   "source": [
    "sum([4,4,90])"
   ]
  },
  {
   "cell_type": "code",
   "execution_count": null,
   "id": "hearing-trauma",
   "metadata": {},
   "outputs": [],
   "source": [
    "arr = np.array([[1, 2, 3], [4, 5, 6], [5,10,15]])\n",
    "sum(sum(arr))"
   ]
  },
  {
   "cell_type": "code",
   "execution_count": null,
   "id": "moral-mailing",
   "metadata": {},
   "outputs": [],
   "source": []
  }
 ],
 "metadata": {
  "kernelspec": {
   "display_name": "Python 3",
   "language": "python",
   "name": "python3"
  },
  "language_info": {
   "codemirror_mode": {
    "name": "ipython",
    "version": 3
   },
   "file_extension": ".py",
   "mimetype": "text/x-python",
   "name": "python",
   "nbconvert_exporter": "python",
   "pygments_lexer": "ipython3",
   "version": "3.7.4"
  }
 },
 "nbformat": 4,
 "nbformat_minor": 5
}
