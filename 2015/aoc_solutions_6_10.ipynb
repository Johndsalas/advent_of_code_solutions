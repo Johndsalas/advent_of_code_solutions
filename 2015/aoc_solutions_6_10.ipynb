{
 "cells": [
  {
   "cell_type": "markdown",
   "id": "legal-quebec",
   "metadata": {},
   "source": [
    "--- Day 6: Probably a Fire Hazard ---\n",
    "Because your neighbors keep defeating you in the holiday house decorating contest year after year, you've decided to deploy one million lights in a 1000x1000 grid.\n",
    "\n",
    "Furthermore, because you've been especially nice this year, Santa has mailed you instructions on how to display the ideal lighting configuration.\n",
    "\n",
    "Lights in your grid are numbered from 0 to 999 in each direction; the lights at each corner are at 0,0, 0,999, 999,999, and 999,0. The instructions include whether to turn on, turn off, or toggle various inclusive ranges given as coordinate pairs. Each coordinate pair represents opposite corners of a rectangle, inclusive; a coordinate pair like 0,0 through 2,2 therefore refers to 9 lights in a 3x3 square. The lights all start turned off.\n",
    "\n",
    "To defeat your neighbors this year, all you have to do is set up your lights by doing the instructions Santa sent you in order.\n",
    "\n",
    "For example:\n",
    "\n",
    "turn on 0,0 through 999,999 would turn on (or leave on) every light.\n",
    "toggle 0,0 through 999,0 would toggle the first line of 1000 lights, turning off the ones that were on, and turning on the ones that were off.\n",
    "turn off 499,499 through 500,500 would turn off (or leave off) the middle four lights.\n",
    "After following the instructions, how many lights are lit?"
   ]
  },
  {
   "cell_type": "code",
   "execution_count": 1,
   "id": "split-instruction",
   "metadata": {},
   "outputs": [
    {
     "data": {
      "text/plain": [
       "543903"
      ]
     },
     "execution_count": 1,
     "metadata": {},
     "output_type": "execute_result"
    }
   ],
   "source": [
    "import numpy as np\n",
    "import regex as re\n",
    "\n",
    "# get 1000 by 1000 array\n",
    "row = [0 for r in range(1000)]\n",
    "arr = np.array([row for r in range(1000)])\n",
    "\n",
    "# read input file\n",
    "strings = [line.strip() for line in open('input2015_6.txt').readlines()]\n",
    "\n",
    "for string in strings:\n",
    "    \n",
    "    # get command, starding and den points from text\n",
    "    command = re.search(r'toggle|off|on',string)[0]\n",
    "    \n",
    "    points = re.findall('\\d+,\\d+', string)\n",
    "    \n",
    "    s_point = points[0].split(',')\n",
    "    \n",
    "    e_point = points[1].split(',')\n",
    "    \n",
    "    # get start and end row and start and end column\n",
    "    s_row = int(s_point[0])\n",
    "    e_row = int(e_point[0])\n",
    "\n",
    "    s_col = int(s_point[1])\n",
    "    e_col = int(e_point[1])\n",
    "    \n",
    "    # get all rows and columns effected\n",
    "    rows = [s_row + r for r in range(0, e_row-s_row+1)]\n",
    "    cols = [s_col + r for r in range(0, e_col-s_col+1)]\n",
    "    \n",
    "    # Adjust lights based on command \n",
    "    if command == 'off':\n",
    "        \n",
    "        for row in rows:\n",
    "            for col in cols:\n",
    "            \n",
    "                arr[row][col] = 0\n",
    "                \n",
    "    elif command == 'on':\n",
    "        \n",
    "        for row in rows:\n",
    "            for col in cols:\n",
    "            \n",
    "                arr[row][col] = 1\n",
    "                \n",
    "    elif command == 'toggle':\n",
    "        \n",
    "        for row in rows:\n",
    "            for col in cols:\n",
    "            \n",
    "                if arr[row][col] == 1:\n",
    "                    \n",
    "                    arr[row][col] = 0\n",
    "                    \n",
    "                elif arr[row][col] == 0:\n",
    "                    \n",
    "                    arr[row][col] = 1\n",
    "\n",
    "# get sum of array\n",
    "sum(sum(arr))"
   ]
  },
  {
   "cell_type": "markdown",
   "id": "worldwide-month",
   "metadata": {},
   "source": [
    "--- Part Two ---\n",
    "You just finish implementing your winning light pattern when you realize you mistranslated Santa's message from Ancient Nordic Elvish.\n",
    "\n",
    "The light grid you bought actually has individual brightness controls; each light can have a brightness of zero or more. The lights all start at zero.\n",
    "\n",
    "The phrase turn on actually means that you should increase the brightness of those lights by 1.\n",
    "\n",
    "The phrase turn off actually means that you should decrease the brightness of those lights by 1, to a minimum of zero.\n",
    "\n",
    "The phrase toggle actually means that you should increase the brightness of those lights by 2.\n",
    "\n",
    "What is the total brightness of all lights combined after following Santa's instructions?\n",
    "\n",
    "For example:\n",
    "\n",
    "turn on 0,0 through 0,0 would increase the total brightness by 1.\n",
    "toggle 0,0 through 999,999 would increase the total brightness by 2000000."
   ]
  },
  {
   "cell_type": "code",
   "execution_count": 2,
   "id": "southeast-qatar",
   "metadata": {},
   "outputs": [
    {
     "data": {
      "text/plain": [
       "14687245"
      ]
     },
     "execution_count": 2,
     "metadata": {},
     "output_type": "execute_result"
    }
   ],
   "source": [
    "import numpy as np\n",
    "import regex as re\n",
    "\n",
    "# get 1000 by 1000 array\n",
    "row = [0 for r in range(1000)]\n",
    "arr = np.array([row for r in range(1000)])\n",
    "\n",
    "# read input file\n",
    "strings = [line.strip() for line in open('input2015_6.txt').readlines()]\n",
    "\n",
    "for string in strings:\n",
    "    \n",
    "    # get command, starding and den points from text\n",
    "    command = re.search(r'toggle|off|on',string)[0]\n",
    "    \n",
    "    points = re.findall('\\d+,\\d+', string)\n",
    "    \n",
    "    s_point = points[0].split(',')\n",
    "    \n",
    "    e_point = points[1].split(',')\n",
    "    \n",
    "    # get start and end row and start and end column\n",
    "    s_row = int(s_point[0])\n",
    "    e_row = int(e_point[0])\n",
    "\n",
    "    s_col = int(s_point[1])\n",
    "    e_col = int(e_point[1])\n",
    "    \n",
    "    # get all rows and columns effected\n",
    "    rows = [s_row + r for r in range(0, e_row-s_row+1)]\n",
    "    cols = [s_col + r for r in range(0, e_col-s_col+1)]\n",
    "    \n",
    "    # Adjust lights based on command \n",
    "    if command == 'off':\n",
    "        \n",
    "        for row in rows:\n",
    "            for col in cols:\n",
    "            \n",
    "                arr[row][col] = arr[row][col] - 1\n",
    "                \n",
    "                if arr[row][col] < 0:\n",
    "                    \n",
    "                    arr[row][col] = 0\n",
    "                \n",
    "    elif command == 'on':\n",
    "        \n",
    "        for row in rows:\n",
    "            for col in cols:\n",
    "            \n",
    "                arr[row][col] = arr[row][col] + 1\n",
    "                \n",
    "    elif command == 'toggle':\n",
    "        \n",
    "        for row in rows:\n",
    "            for col in cols:\n",
    "            \n",
    "                arr[row][col] = arr[row][col] + 2\n",
    "\n",
    "                \n",
    "# get sum of array\n",
    "sum(sum(arr))"
   ]
  },
  {
   "cell_type": "markdown",
   "id": "premium-poker",
   "metadata": {},
   "source": [
    "--- Day 7: Some Assembly Required ---\n",
    "This year, Santa brought little Bobby Tables a set of wires and bitwise logic gates! Unfortunately, little Bobby is a little under the recommended age range, and he needs help assembling the circuit.\n",
    "\n",
    "Each wire has an identifier (some lowercase letters) and can carry a 16-bit signal (a number from 0 to 65535). A signal is provided to each wire by a gate, another wire, or some specific value. Each wire can only get a signal from one source, but can provide its signal to multiple destinations. A gate provides no signal until all of its inputs have a signal.\n",
    "\n",
    "The included instructions booklet describes how to connect the parts together: x AND y -> z means to connect wires x and y to an AND gate, and then connect its output to wire z.\n",
    "\n",
    "For example:\n",
    "\n",
    "123 -> x means that the signal 123 is provided to wire x.\n",
    "x AND y -> z means that the bitwise AND of wire x and wire y is provided to wire z.\n",
    "p LSHIFT 2 -> q means that the value from wire p is left-shifted by 2 and then provided to wire q.\n",
    "NOT e -> f means that the bitwise complement of the value from wire e is provided to wire f.\n",
    "Other possible gates include OR (bitwise OR) and RSHIFT (right-shift). If, for some reason, you'd like to emulate the circuit instead, almost all programming languages (for example, C, JavaScript, or Python) provide operators for these gates.\n",
    "\n",
    "For example, here is a simple circuit:\n",
    "\n",
    "123 -> x\n",
    "456 -> y\n",
    "x AND y -> d\n",
    "x OR y -> e\n",
    "x LSHIFT 2 -> f\n",
    "y RSHIFT 2 -> g\n",
    "NOT x -> h\n",
    "NOT y -> i\n",
    "After it is run, these are the signals on the wires:\n",
    "\n",
    "d: 72\n",
    "e: 507\n",
    "f: 492\n",
    "g: 114\n",
    "h: 65412\n",
    "i: 65079\n",
    "x: 123\n",
    "y: 456\n",
    "In little Bobby's kit's instructions booklet (provided as your puzzle input), what signal is ultimately provided to wire a?\n",
    "\n"
   ]
  },
  {
   "cell_type": "code",
   "execution_count": 12,
   "id": "certified-destiny",
   "metadata": {},
   "outputs": [
    {
     "ename": "NameError",
     "evalue": "name 'start_calues' is not defined",
     "output_type": "error",
     "traceback": [
      "\u001b[0;31m---------------------------------------------------------------------------\u001b[0m",
      "\u001b[0;31mNameError\u001b[0m                                 Traceback (most recent call last)",
      "\u001b[0;32m<ipython-input-12-e96c0f67b7c4>\u001b[0m in \u001b[0;36m<module>\u001b[0;34m\u001b[0m\n\u001b[1;32m     13\u001b[0m \u001b[0mcharge\u001b[0m \u001b[0;34m=\u001b[0m \u001b[0;34m[\u001b[0m\u001b[0mvalue\u001b[0m\u001b[0;34m.\u001b[0m\u001b[0mstrip\u001b[0m\u001b[0;34m(\u001b[0m\u001b[0;34m)\u001b[0m \u001b[0;32mfor\u001b[0m \u001b[0mvalue\u001b[0m \u001b[0;32min\u001b[0m \u001b[0mre\u001b[0m\u001b[0;34m.\u001b[0m\u001b[0msplit\u001b[0m\u001b[0;34m(\u001b[0m\u001b[0;34mr'->'\u001b[0m\u001b[0;34m,\u001b[0m \u001b[0mvalue\u001b[0m\u001b[0;34m)\u001b[0m\u001b[0;34m]\u001b[0m\u001b[0;34m\u001b[0m\u001b[0;34m\u001b[0m\u001b[0m\n\u001b[1;32m     14\u001b[0m \u001b[0;34m\u001b[0m\u001b[0m\n\u001b[0;32m---> 15\u001b[0;31m \u001b[0;32mfor\u001b[0m \u001b[0mcharges\u001b[0m \u001b[0;32min\u001b[0m \u001b[0mstart_calues\u001b[0m\u001b[0;34m:\u001b[0m\u001b[0;34m\u001b[0m\u001b[0;34m\u001b[0m\u001b[0m\n\u001b[0m\u001b[1;32m     16\u001b[0m \u001b[0;34m\u001b[0m\u001b[0m\n\u001b[1;32m     17\u001b[0m     \u001b[0mcharge_values\u001b[0m\u001b[0;34m[\u001b[0m\u001b[0mcharge\u001b[0m\u001b[0;34m[\u001b[0m\u001b[0;36m1\u001b[0m\u001b[0;34m]\u001b[0m\u001b[0;34m]\u001b[0m \u001b[0;34m=\u001b[0m \u001b[0mcharge\u001b[0m\u001b[0;34m[\u001b[0m\u001b[0;36m0\u001b[0m\u001b[0;34m]\u001b[0m\u001b[0;34m\u001b[0m\u001b[0;34m\u001b[0m\u001b[0m\n",
      "\u001b[0;31mNameError\u001b[0m: name 'start_calues' is not defined"
     ]
    }
   ],
   "source": [
    "import regex as re\n",
    "\n",
    "# store known charge values in a dictionary\n",
    "charge_values = {}\n",
    "\n",
    "# read in lines as a list\n",
    "strings = [line.strip() for line in open('input2015_7.txt').readlines()]\n",
    "\n",
    "# get known charge values  \n",
    "known_values = [string for string in strings if re.search(r'^(\\d+)\\s->\\s(\\w)',string) != None]\n",
    "\n",
    "# add known charge values to dict\n",
    "charge = [value.strip() for value in re.split(r'->', value)]\n",
    "\n",
    "for charges in start_calues:\n",
    "    \n",
    "    charge_values[charge[1]] = charge[0]\n",
    "    \n",
    "charge_values"
   ]
  },
  {
   "cell_type": "code",
   "execution_count": 22,
   "id": "overhead-representative",
   "metadata": {},
   "outputs": [
    {
     "data": {
      "text/plain": [
       "',bn RSHIFT 2 -> bo,lf RSHIFT 1 -> ly,fo RSHIFT 3 -> fq,cj OR cp -> cq,fo OR fz -> ga,t OR s -> u,lx -> a,NOT ax -> ay,he RSHIFT 2 -> hf,lf OR lq -> lr,lr AND lt -> lu,dy OR ej -> ek,1 AND cx -> cy,hb LSHIFT 1 -> hv,1 AND bh -> bi,ih AND ij -> ik,c LSHIFT 1 -> t,ea AND eb -> ed,km OR kn -> ko,NOT bw -> bx,ci OR ct -> cu,NOT p -> q,lw OR lv -> lx,NOT lo -> lp,fp OR fv -> fw,o AND q -> r,dh AND dj -> dk,ap LSHIFT 1 -> bj,bk LSHIFT 1 -> ce,NOT ii -> ij,gh OR gi -> gj,kk RSHIFT 1 -> ld,lc LSHIFT 1 -> lw,lb OR la -> lc,1 AND am -> an,gn AND gp -> gq,lf RSHIFT 3 -> lh,e OR f -> g,lg AND lm -> lo,ci RSHIFT 1 -> db,cf LSHIFT 1 -> cz,bn RSHIFT 1 -> cg,et AND fe -> fg,is OR it -> iu,kw AND ky -> kz,ck AND cl -> cn,bj OR bi -> bk,gj RSHIFT 1 -> hc,iu AND jf -> jh,NOT bs -> bt,kk OR kv -> kw,ks AND ku -> kv,hz OR ik -> il,b RSHIFT 1 -> v,iu RSHIFT 1 -> jn,fo RSHIFT 5 -> fr,be AND bg -> bh,ga AND gc -> gd,hf OR hl -> hm,ld OR le -> lf,as RSHIFT 5 -> av,fm OR fn -> fo,hm AND ho -> hp,lg OR lm -> ln,NOT kx -> ky,kk RSHIFT 3 -> km,ek AND em -> en,NOT ft -> fu,NOT jh -> ji,jn OR jo -> jp,gj AND gu -> gw,d AND j -> l,et RSHIFT 1 -> fm,jq OR jw -> jx,ep OR eo -> eq,lv LSHIFT 15 -> lz,NOT ey -> ez,jp RSHIFT 2 -> jq,eg AND ei -> ej,NOT dm -> dn,jp AND ka -> kc,as AND bd -> bf,fk OR fj -> fl,dw OR dx -> dy,lj AND ll -> lm,ec AND ee -> ef,fq AND fr -> ft,NOT kp -> kq,ki OR kj -> kk,cz OR cy -> da,as RSHIFT 3 -> au,an LSHIFT 15 -> ar,fj LSHIFT 15 -> fn,1 AND fi -> fj,he RSHIFT 1 -> hx,lf RSHIFT 2 -> lg,kf LSHIFT 15 -> kj,dz AND ef -> eh,ib OR ic -> id,lf RSHIFT 5 -> li,bp OR bq -> br,NOT gs -> gt,fo RSHIFT 1 -> gh,bz AND cb -> cc,ea OR eb -> ec,lf AND lq -> ls,NOT l -> m,hz RSHIFT 3 -> ib,NOT di -> dj,NOT lk -> ll,jp RSHIFT 3 -> jr,jp RSHIFT 5 -> js,NOT bf -> bg,s LSHIFT 15 -> w,eq LSHIFT 1 -> fk,jl OR jk -> jm,hz AND ik -> im,dz OR ef -> eg,1 AND gy -> gz,la LSHIFT 15 -> le,br AND bt -> bu,NOT cn -> co,v OR w -> x,d OR j -> k,1 AND gd -> ge,ia OR ig -> ih,NOT go -> gp,NOT ed -> ee,jq AND jw -> jy,et OR fe -> ff,aw AND ay -> az,ff AND fh -> fi,ir LSHIFT 1 -> jl,gg LSHIFT 1 -> ha,x RSHIFT 2 -> y,db OR dc -> dd,bl OR bm -> bn,ib AND ic -> ie,x RSHIFT 3 -> z,lh AND li -> lk,ce OR cd -> cf,NOT bb -> bc,hi AND hk -> hl,NOT gb -> gc,1 AND r -> s,fw AND fy -> fz,fb AND fd -> fe,1 AND en -> eo,z OR aa -> ab,bi LSHIFT 15 -> bm,hg OR hh -> hi,kh LSHIFT 1 -> lb,cg OR ch -> ci,1 AND kz -> la,gf OR ge -> gg,gj RSHIFT 2 -> gk,dd RSHIFT 2 -> de,NOT ls -> lt,lh OR li -> lj,jr OR js -> jt,au AND av -> ax,0 -> c,he AND hp -> hr,id AND if -> ig,et RSHIFT 5 -> ew,bp AND bq -> bs,e AND f -> h,ly OR lz -> ma,1 AND lu -> lv,NOT jd -> je,ha OR gz -> hb,dy RSHIFT 1 -> er,iu RSHIFT 2 -> iv,NOT hr -> hs,as RSHIFT 1 -> bl,kk RSHIFT 2 -> kl,b AND n -> p,ln AND lp -> lq,cj AND cp -> cr,dl AND dn -> do,ci RSHIFT 2 -> cj,as OR bd -> be,ge LSHIFT 15 -> gi,hz RSHIFT 5 -> ic,dv LSHIFT 1 -> ep,kl OR kr -> ks,gj OR gu -> gv,he RSHIFT 5 -> hh,NOT fg -> fh,hg AND hh -> hj,b OR n -> o,jk LSHIFT 15 -> jo,gz LSHIFT 15 -> hd,cy LSHIFT 15 -> dc,kk RSHIFT 5 -> kn,ci RSHIFT 3 -> ck,at OR az -> ba,iu RSHIFT 3 -> iw,ko AND kq -> kr,NOT eh -> ei,aq OR ar -> as,iy AND ja -> jb,dd RSHIFT 3 -> df,bn RSHIFT 3 -> bp,1 AND cc -> cd,at AND az -> bb,x OR ai -> aj,kk AND kv -> kx,ao OR an -> ap,dy RSHIFT 3 -> ea,x RSHIFT 1 -> aq,eu AND fa -> fc,kl AND kr -> kt,ia AND ig -> ii,df AND dg -> di,NOT fx -> fy,k AND m -> n,bn RSHIFT 5 -> bq,km AND kn -> kp,dt LSHIFT 15 -> dx,hz RSHIFT 2 -> ia,aj AND al -> am,cd LSHIFT 15 -> ch,hc OR hd -> he,he RSHIFT 3 -> hg,bn OR by -> bz,NOT kt -> ku,z AND aa -> ac,NOT ak -> al,cu AND cw -> cx,NOT ie -> if,dy RSHIFT 2 -> dz,ip LSHIFT 15 -> it,de OR dk -> dl,au OR av -> aw,jg AND ji -> jj,ci AND ct -> cv,dy RSHIFT 5 -> eb,hx OR hy -> hz,eu OR fa -> fb,gj RSHIFT 3 -> gl,fo AND fz -> gb,1 AND jj -> jk,jp OR ka -> kb,de AND dk -> dm,ex AND ez -> fa,df OR dg -> dh,iv OR jb -> jc,x RSHIFT 5 -> aa,NOT hj -> hk,NOT im -> in,fl LSHIFT 1 -> gf,hu LSHIFT 15 -> hy,iq OR ip -> ir,iu RSHIFT 5 -> ix,NOT fc -> fd,NOT el -> em,ck OR cl -> cm,et RSHIFT 3 -> ev,hw LSHIFT 1 -> iq,ci RSHIFT 5 -> cl,iv AND jb -> jd,dd RSHIFT 5 -> dg,as RSHIFT 2 -> at,NOT jy -> jz,af AND ah -> ai,1 AND ds -> dt,jx AND jz -> ka,da LSHIFT 1 -> du,fs AND fu -> fv,jp RSHIFT 1 -> ki,iw AND ix -> iz,iw OR ix -> iy,eo LSHIFT 15 -> es,ev AND ew -> ey,ba AND bc -> bd,fp AND fv -> fx,jc AND je -> jf,et RSHIFT 2 -> eu,kg OR kf -> kh,iu OR jf -> jg,er OR es -> et,fo RSHIFT 2 -> fp,NOT ca -> cb,bv AND bx -> by,u LSHIFT 1 -> ao,cm AND co -> cp,y OR ae -> af,bn AND by -> ca,1 AND ke -> kf,jt AND jv -> jw,fq OR fr -> fs,dy AND ej -> el,NOT kc -> kd,ev OR ew -> ex,dd OR do -> dp,NOT cv -> cw,gr AND gt -> gu,dd RSHIFT 1 -> dw,NOT gw -> gx,NOT iz -> ja,1 AND io -> ip,NOT ag -> ah,b RSHIFT 5 -> f,NOT cr -> cs,kb AND kd -> ke,jr AND js -> ju,cq AND cs -> ct,il AND in -> io,NOT ju -> jv,du OR dt -> dv,dd AND do -> dq,b RSHIFT 2 -> d,jm LSHIFT 1 -> kg,NOT dq -> dr,bo OR bu -> bv,gk OR gq -> gr,he OR hp -> hq,NOT h -> i,hf AND hl -> hn,gv AND gx -> gy,x AND ai -> ak,bo AND bu -> bw,hq AND hs -> ht,hz RSHIFT 1 -> is,gj RSHIFT 5 -> gm,g AND i -> j,gk AND gq -> gs,dp AND dr -> ds,b RSHIFT 3 -> e,gl AND gm -> go,gl OR gm -> gn,y AND ae -> ag,hv OR hu -> hw,1674 -> b,ab AND ad -> ae,NOT ac -> ad,1 AND ht -> hu,NOT hn -> ho,'"
      ]
     },
     "execution_count": 22,
     "metadata": {},
     "output_type": "execute_result"
    }
   ],
   "source": [
    "circs"
   ]
  },
  {
   "cell_type": "code",
   "execution_count": 38,
   "id": "computational-alabama",
   "metadata": {},
   "outputs": [
    {
     "data": {
      "text/plain": [
       "[',0 LSHIFT 1 -> t,',\n",
       " ',1674 RSHIFT 1 -> v,',\n",
       " ',1674 RSHIFT 5 -> f,',\n",
       " ',1674 RSHIFT 2 -> d,',\n",
       " ',1674 RSHIFT 3 -> e,']"
      ]
     },
     "execution_count": 38,
     "metadata": {},
     "output_type": "execute_result"
    }
   ],
   "source": [
    "known = {}\n",
    "\n",
    "puzzle_board = open('input2015_7.txt').read()\n",
    "\n",
    "puzzle_board = ',' + strings.replace('\\n', ',')\n",
    "\n",
    "# find matches\n",
    "matches = re.findall(r',(\\d+)\\s->\\s(\\w),',puzzle_board)\n",
    "\n",
    "\n",
    "for match in matches:\n",
    "    \n",
    "    # add matches to known\n",
    "    known[match[1]] = match[0]\n",
    "    \n",
    "    # update puzzle board\n",
    "    puzzle_board = re.sub(fr'\\s{match[1]}\\s',' ' + match[0] + ' ', puzzle_board)\n",
    "    puzzle_board = re.sub(fr'\\s{match[1]},', ' ' + match[0] + ',', puzzle_board)\n",
    "    puzzle_board = re.sub(fr',{match[1]},', ',' + match[0] + ',', puzzle_board)\n",
    "    puzzle_board = re.sub(fr',{match[1]}\\s', ',' + match[0] + ' ', puzzle_board)\n",
    "    \n",
    "puzzle_board\n",
    "\n",
    "re.findall(r',(?:[A-Z0-9 ]+-> [a-z]{1,2}),',puzzle_board)"
   ]
  },
  {
   "cell_type": "code",
   "execution_count": null,
   "id": "informational-beach",
   "metadata": {},
   "outputs": [],
   "source": []
  },
  {
   "cell_type": "code",
   "execution_count": 11,
   "id": "bulgarian-illness",
   "metadata": {},
   "outputs": [
    {
     "data": {
      "text/plain": [
       "{'c': '0'}"
      ]
     },
     "execution_count": 11,
     "metadata": {},
     "output_type": "execute_result"
    }
   ],
   "source": [
    "circs = {}\n",
    "\n",
    "value = '0 -> c'\n",
    "\n",
    "charge = [value.strip() for value in re.split(r'->', value)]\n",
    "\n",
    "\n",
    "\n",
    "circs"
   ]
  },
  {
   "cell_type": "code",
   "execution_count": null,
   "id": "finnish-revelation",
   "metadata": {},
   "outputs": [],
   "source": []
  },
  {
   "cell_type": "code",
   "execution_count": null,
   "id": "verbal-azerbaijan",
   "metadata": {},
   "outputs": [],
   "source": []
  },
  {
   "cell_type": "code",
   "execution_count": 6,
   "id": "hybrid-pastor",
   "metadata": {},
   "outputs": [
    {
     "name": "stdout",
     "output_type": "stream",
     "text": [
      "['0 ', ' c']\n",
      "['1674 ', ' b']\n"
     ]
    },
    {
     "data": {
      "text/plain": [
       "{' c': '0 ', ' b': '1674 '}"
      ]
     },
     "execution_count": 6,
     "metadata": {},
     "output_type": "execute_result"
    }
   ],
   "source": [
    "known {}\n",
    "\n",
    "for value in start:\n",
    "    \n",
    "    charge = re.split(r'->', value)\n",
    "    \n",
    "    print(charge)\n",
    "    \n",
    "    circs[charge[1]] = charge[0]\n",
    "    \n",
    "circs"
   ]
  },
  {
   "cell_type": "code",
   "execution_count": 7,
   "id": "cubic-party",
   "metadata": {},
   "outputs": [
    {
     "data": {
      "text/plain": [
       "['c LSHIFT 1 -> t',\n",
       " 'b RSHIFT 1 -> v',\n",
       " 'b AND n -> p',\n",
       " 'b OR n -> o',\n",
       " 'b RSHIFT 5 -> f',\n",
       " 'b RSHIFT 2 -> d',\n",
       " 'b RSHIFT 3 -> e']"
      ]
     },
     "execution_count": 7,
     "metadata": {},
     "output_type": "execute_result"
    }
   ],
   "source": [
    "[string for string in strings if re.search(r'^c |^b ',string) != None]"
   ]
  },
  {
   "cell_type": "code",
   "execution_count": null,
   "id": "apart-method",
   "metadata": {},
   "outputs": [],
   "source": []
  }
 ],
 "metadata": {
  "kernelspec": {
   "display_name": "Python 3",
   "language": "python",
   "name": "python3"
  },
  "language_info": {
   "codemirror_mode": {
    "name": "ipython",
    "version": 3
   },
   "file_extension": ".py",
   "mimetype": "text/x-python",
   "name": "python",
   "nbconvert_exporter": "python",
   "pygments_lexer": "ipython3",
   "version": "3.7.4"
  }
 },
 "nbformat": 4,
 "nbformat_minor": 5
}
